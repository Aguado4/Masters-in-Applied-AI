{
 "cells": [
  {
   "cell_type": "markdown",
   "id": "b5940e01",
   "metadata": {},
   "source": [
    "# Libs"
   ]
  },
  {
   "cell_type": "code",
   "execution_count": 9,
   "id": "e37dc03d",
   "metadata": {},
   "outputs": [],
   "source": [
    "import pandas as pd\n",
    "import seaborn as sns\n",
    "import matplotlib.pyplot as plt\n",
    "import numpy as np\n",
    "import scipy.stats as stats"
   ]
  },
  {
   "cell_type": "markdown",
   "id": "a6ac567c",
   "metadata": {},
   "source": [
    "# Selección de variables y justificación\n",
    "\n",
    "\n",
    "Para este análisis bivariado se seleccionan las variables **Temp** (diferencia de la temperatura global respecto al valor de referencia histórico) y **CO2** (concentración de dióxido de carbono en ppmv).\n",
    "\n",
    "La elección se justifica porque el **CO2 es el principal gas de efecto invernadero**, y múltiples estudios han mostrado que su incremento está directamente relacionado con el aumento de la temperatura global. Analizar la relación entre ambas variables resulta fundamental para comprender el impacto de las emisiones humanas en el cambio climático."
   ]
  },
  {
   "cell_type": "code",
   "execution_count": 7,
   "id": "c4ae13f8",
   "metadata": {},
   "outputs": [
    {
     "data": {
      "application/vnd.microsoft.datawrangler.viewer.v0+json": {
       "columns": [
        {
         "name": "index",
         "rawType": "int64",
         "type": "integer"
        },
        {
         "name": "Year",
         "rawType": "int64",
         "type": "integer"
        },
        {
         "name": "Month",
         "rawType": "int64",
         "type": "integer"
        },
        {
         "name": "MEI",
         "rawType": "float64",
         "type": "float"
        },
        {
         "name": "CO2",
         "rawType": "float64",
         "type": "float"
        },
        {
         "name": "CH4",
         "rawType": "float64",
         "type": "float"
        },
        {
         "name": "N2O",
         "rawType": "float64",
         "type": "float"
        },
        {
         "name": "CFC-11",
         "rawType": "float64",
         "type": "float"
        },
        {
         "name": "CFC-12",
         "rawType": "float64",
         "type": "float"
        },
        {
         "name": "TSI",
         "rawType": "float64",
         "type": "float"
        },
        {
         "name": "Aerosols",
         "rawType": "float64",
         "type": "float"
        },
        {
         "name": "Temp",
         "rawType": "float64",
         "type": "float"
        }
       ],
       "ref": "acdc73b6-a300-4784-becb-e2f2dd7968cb",
       "rows": [
        [
         "0",
         "1983",
         "5",
         "2.556",
         "345.96",
         "1638.59",
         "303.677",
         "191.324",
         "350.113",
         "1366.1024",
         "0.0863",
         "0.109"
        ],
        [
         "1",
         "1983",
         "6",
         "2.167",
         "345.52",
         "1633.71",
         "303.746",
         "192.057",
         "351.848",
         "1366.1208",
         "0.0794",
         "0.118"
        ],
        [
         "2",
         "1983",
         "7",
         "1.741",
         "344.15",
         "1633.22",
         "303.795",
         "192.818",
         "353.725",
         "1366.285",
         "0.0731",
         "0.137"
        ],
        [
         "3",
         "1983",
         "8",
         "1.13",
         "342.25",
         "1631.35",
         "303.839",
         "193.602",
         "355.633",
         "1366.4202",
         "0.0673",
         "0.176"
        ],
        [
         "4",
         "1983",
         "9",
         "0.428",
         "340.17",
         "1648.4",
         "303.901",
         "194.392",
         "357.465",
         "1366.2335",
         "0.0619",
         "0.149"
        ],
        [
         "5",
         "1983",
         "10",
         "0.002",
         "340.3",
         "1663.79",
         "303.97",
         "195.171",
         "359.174",
         "1366.0589",
         "0.0569",
         "0.093"
        ],
        [
         "6",
         "1983",
         "11",
         "-0.176",
         "341.53",
         "1658.23",
         "304.032",
         "195.921",
         "360.758",
         "1366.1072",
         "0.0524",
         "0.232"
        ],
        [
         "7",
         "1983",
         "12",
         "-0.176",
         "343.07",
         "1654.31",
         "304.082",
         "196.609",
         "362.174",
         "1366.0607",
         "0.0486",
         "0.078"
        ],
        [
         "8",
         "1984",
         "1",
         "-0.339",
         "344.05",
         "1658.98",
         "304.13",
         "197.219",
         "363.359",
         "1365.4261",
         "0.0451",
         "0.089"
        ],
        [
         "9",
         "1984",
         "2",
         "-0.565",
         "344.77",
         "1656.48",
         "304.194",
         "197.759",
         "364.296",
         "1365.6618",
         "0.0416",
         "0.013"
        ],
        [
         "10",
         "1984",
         "3",
         "0.131",
         "345.46",
         "1655.77",
         "304.285",
         "198.249",
         "365.044",
         "1366.1697",
         "0.0383",
         "0.049"
        ],
        [
         "11",
         "1984",
         "4",
         "0.331",
         "346.77",
         "1657.68",
         "304.389",
         "198.723",
         "365.692",
         "1365.566",
         "0.0352",
         "-0.019"
        ],
        [
         "12",
         "1984",
         "5",
         "0.121",
         "347.55",
         "1649.33",
         "304.489",
         "199.233",
         "366.317",
         "1365.7783",
         "0.0324",
         "0.065"
        ],
        [
         "13",
         "1984",
         "6",
         "-0.142",
         "346.98",
         "1634.13",
         "304.593",
         "199.858",
         "367.029",
         "1366.0956",
         "0.0302",
         "-0.016"
        ],
        [
         "14",
         "1984",
         "7",
         "-0.138",
         "345.55",
         "1629.89",
         "304.722",
         "200.671",
         "367.893",
         "1366.1145",
         "0.0282",
         "-0.024"
        ],
        [
         "15",
         "1984",
         "8",
         "-0.179",
         "343.2",
         "1643.67",
         "304.871",
         "201.71",
         "368.843",
         "1365.9781",
         "0.026",
         "0.034"
        ],
        [
         "16",
         "1984",
         "9",
         "-0.082",
         "341.35",
         "1663.6",
         "305.021",
         "202.972",
         "369.8",
         "1365.8669",
         "0.0239",
         "0.025"
        ],
        [
         "17",
         "1984",
         "10",
         "0.016",
         "341.68",
         "1674.65",
         "305.158",
         "204.407",
         "370.782",
         "1365.7869",
         "0.022",
         "-0.035"
        ],
        [
         "18",
         "1984",
         "11",
         "-0.351",
         "343.06",
         "1677.1",
         "305.263",
         "205.893",
         "371.77",
         "1365.6802",
         "0.0202",
         "-0.123"
        ],
        [
         "19",
         "1984",
         "12",
         "-0.611",
         "344.54",
         "1672.15",
         "305.313",
         "207.308",
         "372.701",
         "1365.7617",
         "0.0188",
         "-0.282"
        ],
        [
         "20",
         "1985",
         "1",
         "-0.561",
         "345.25",
         "1663.42",
         "305.301",
         "208.537",
         "373.623",
         "1365.6082",
         "0.0164",
         "-0.001"
        ],
        [
         "21",
         "1985",
         "2",
         "-0.602",
         "346.06",
         "1666.21",
         "305.243",
         "209.543",
         "374.681",
         "1365.7085",
         "0.016",
         "-0.155"
        ],
        [
         "22",
         "1985",
         "3",
         "-0.737",
         "347.66",
         "1678.34",
         "305.165",
         "210.368",
         "376.004",
         "1365.657",
         "0.0141",
         "-0.032"
        ],
        [
         "23",
         "1985",
         "4",
         "-0.484",
         "348.2",
         "1675.24",
         "305.093",
         "211.111",
         "377.635",
         "1365.512",
         "0.0138",
         "-0.042"
        ],
        [
         "24",
         "1985",
         "5",
         "-0.731",
         "348.92",
         "1666.83",
         "305.045",
         "211.823",
         "379.539",
         "1365.6366",
         "0.0128",
         "0.001"
        ],
        [
         "25",
         "1985",
         "6",
         "-0.086",
         "348.4",
         "1659.4",
         "305.027",
         "212.512",
         "381.642",
         "1365.6964",
         "0.0126",
         "-0.049"
        ],
        [
         "26",
         "1985",
         "7",
         "-0.156",
         "346.66",
         "1654.25",
         "305.049",
         "213.165",
         "383.905",
         "1365.6509",
         "0.0121",
         "-0.042"
        ],
        [
         "27",
         "1985",
         "8",
         "-0.392",
         "344.85",
         "1654.41",
         "305.126",
         "213.803",
         "386.223",
         "1365.7499",
         "0.0116",
         "0.013"
        ],
        [
         "28",
         "1985",
         "9",
         "-0.541",
         "343.2",
         "1668.31",
         "305.25",
         "214.501",
         "388.5",
         "1365.6653",
         "0.0102",
         "-0.035"
        ],
        [
         "29",
         "1985",
         "10",
         "-0.14",
         "343.08",
         "1681.56",
         "305.395",
         "215.327",
         "390.676",
         "1365.5269",
         "0.0101",
         "-0.008"
        ],
        [
         "30",
         "1985",
         "11",
         "-0.05",
         "344.4",
         "1680.68",
         "305.53",
         "216.282",
         "392.714",
         "1365.6289",
         "0.0097",
         "-0.093"
        ],
        [
         "31",
         "1985",
         "12",
         "-0.293",
         "345.82",
         "1677.99",
         "305.653",
         "217.326",
         "394.539",
         "1365.6794",
         "0.0122",
         "-0.002"
        ],
        [
         "32",
         "1986",
         "1",
         "-0.307",
         "346.54",
         "1675.82",
         "305.775",
         "218.382",
         "396.082",
         "1365.6746",
         "0.0146",
         "0.121"
        ],
        [
         "33",
         "1986",
         "2",
         "-0.191",
         "347.13",
         "1666.83",
         "305.911",
         "219.379",
         "397.345",
         "1365.5475",
         "0.0158",
         "0.065"
        ],
        [
         "34",
         "1986",
         "3",
         "0.033",
         "348.05",
         "1672.87",
         "306.055",
         "220.315",
         "398.41",
         "1365.6797",
         "0.0144",
         "0.049"
        ],
        [
         "35",
         "1986",
         "4",
         "-0.169",
         "349.77",
         "1688.51",
         "306.201",
         "221.245",
         "399.398",
         "1365.6531",
         "0.0147",
         "0.045"
        ],
        [
         "36",
         "1986",
         "5",
         "0.305",
         "350.53",
         "1686.02",
         "306.351",
         "222.197",
         "400.393",
         "1365.7275",
         "0.014",
         "0.023"
        ],
        [
         "37",
         "1986",
         "6",
         "0.311",
         "349.9",
         "1685.06",
         "306.512",
         "223.189",
         "401.487",
         "1365.6615",
         "0.013",
         "0.055"
        ],
        [
         "38",
         "1986",
         "7",
         "0.384",
         "348.11",
         "1682.79",
         "306.672",
         "224.236",
         "402.711",
         "1365.6509",
         "0.0128",
         "0.004"
        ],
        [
         "39",
         "1986",
         "8",
         "0.804",
         "346.09",
         "1670.57",
         "306.8",
         "225.302",
         "404.06",
         "1365.5989",
         "0.014",
         "-0.001"
        ],
        [
         "40",
         "1986",
         "9",
         "1.166",
         "345.01",
         "1680.44",
         "306.867",
         "226.343",
         "405.584",
         "1365.6034",
         "0.0126",
         "0.016"
        ],
        [
         "41",
         "1986",
         "10",
         "0.996",
         "344.47",
         "1691.19",
         "306.86",
         "227.325",
         "407.328",
         "1365.6465",
         "0.0126",
         "0.043"
        ],
        [
         "42",
         "1986",
         "11",
         "0.872",
         "345.86",
         "1692.49",
         "306.779",
         "228.224",
         "409.211",
         "1365.7097",
         "0.0123",
         "-0.033"
        ],
        [
         "43",
         "1986",
         "12",
         "1.183",
         "347.15",
         "1698.08",
         "306.612",
         "229.058",
         "411.112",
         "1365.6717",
         "0.012",
         "0.022"
        ],
        [
         "44",
         "1987",
         "1",
         "1.237",
         "348.38",
         "1692.74",
         "306.368",
         "229.846",
         "412.92",
         "1365.6674",
         "0.0118",
         "0.116"
        ],
        [
         "45",
         "1987",
         "2",
         "1.185",
         "348.7",
         "1690.41",
         "306.083",
         "230.592",
         "414.572",
         "1365.659",
         "0.0111",
         "0.266"
        ],
        [
         "46",
         "1987",
         "3",
         "1.724",
         "349.72",
         "1695.08",
         "305.812",
         "231.325",
         "416.063",
         "1365.6693",
         "0.0109",
         "0.021"
        ],
        [
         "47",
         "1987",
         "4",
         "1.865",
         "351.32",
         "1696.18",
         "305.433",
         "232.098",
         "417.549",
         "1365.6385",
         "0.0104",
         "0.084"
        ],
        [
         "48",
         "1987",
         "5",
         "2.122",
         "352.14",
         "1694.75",
         "305.542",
         "232.939",
         "418.723",
         "1365.7561",
         "0.0101",
         "0.145"
        ],
        [
         "49",
         "1987",
         "6",
         "1.904",
         "351.61",
         "1687.78",
         "305.865",
         "233.798",
         "420.222",
         "1365.8307",
         "0.0105",
         "0.121"
        ]
       ],
       "shape": {
        "columns": 11,
        "rows": 308
       }
      },
      "text/html": [
       "<div>\n",
       "<style scoped>\n",
       "    .dataframe tbody tr th:only-of-type {\n",
       "        vertical-align: middle;\n",
       "    }\n",
       "\n",
       "    .dataframe tbody tr th {\n",
       "        vertical-align: top;\n",
       "    }\n",
       "\n",
       "    .dataframe thead th {\n",
       "        text-align: right;\n",
       "    }\n",
       "</style>\n",
       "<table border=\"1\" class=\"dataframe\">\n",
       "  <thead>\n",
       "    <tr style=\"text-align: right;\">\n",
       "      <th></th>\n",
       "      <th>Year</th>\n",
       "      <th>Month</th>\n",
       "      <th>MEI</th>\n",
       "      <th>CO2</th>\n",
       "      <th>CH4</th>\n",
       "      <th>N2O</th>\n",
       "      <th>CFC-11</th>\n",
       "      <th>CFC-12</th>\n",
       "      <th>TSI</th>\n",
       "      <th>Aerosols</th>\n",
       "      <th>Temp</th>\n",
       "    </tr>\n",
       "  </thead>\n",
       "  <tbody>\n",
       "    <tr>\n",
       "      <th>0</th>\n",
       "      <td>1983</td>\n",
       "      <td>5</td>\n",
       "      <td>2.556</td>\n",
       "      <td>345.96</td>\n",
       "      <td>1638.59</td>\n",
       "      <td>303.677</td>\n",
       "      <td>191.324</td>\n",
       "      <td>350.113</td>\n",
       "      <td>1366.1024</td>\n",
       "      <td>0.0863</td>\n",
       "      <td>0.109</td>\n",
       "    </tr>\n",
       "    <tr>\n",
       "      <th>1</th>\n",
       "      <td>1983</td>\n",
       "      <td>6</td>\n",
       "      <td>2.167</td>\n",
       "      <td>345.52</td>\n",
       "      <td>1633.71</td>\n",
       "      <td>303.746</td>\n",
       "      <td>192.057</td>\n",
       "      <td>351.848</td>\n",
       "      <td>1366.1208</td>\n",
       "      <td>0.0794</td>\n",
       "      <td>0.118</td>\n",
       "    </tr>\n",
       "    <tr>\n",
       "      <th>2</th>\n",
       "      <td>1983</td>\n",
       "      <td>7</td>\n",
       "      <td>1.741</td>\n",
       "      <td>344.15</td>\n",
       "      <td>1633.22</td>\n",
       "      <td>303.795</td>\n",
       "      <td>192.818</td>\n",
       "      <td>353.725</td>\n",
       "      <td>1366.2850</td>\n",
       "      <td>0.0731</td>\n",
       "      <td>0.137</td>\n",
       "    </tr>\n",
       "    <tr>\n",
       "      <th>3</th>\n",
       "      <td>1983</td>\n",
       "      <td>8</td>\n",
       "      <td>1.130</td>\n",
       "      <td>342.25</td>\n",
       "      <td>1631.35</td>\n",
       "      <td>303.839</td>\n",
       "      <td>193.602</td>\n",
       "      <td>355.633</td>\n",
       "      <td>1366.4202</td>\n",
       "      <td>0.0673</td>\n",
       "      <td>0.176</td>\n",
       "    </tr>\n",
       "    <tr>\n",
       "      <th>4</th>\n",
       "      <td>1983</td>\n",
       "      <td>9</td>\n",
       "      <td>0.428</td>\n",
       "      <td>340.17</td>\n",
       "      <td>1648.40</td>\n",
       "      <td>303.901</td>\n",
       "      <td>194.392</td>\n",
       "      <td>357.465</td>\n",
       "      <td>1366.2335</td>\n",
       "      <td>0.0619</td>\n",
       "      <td>0.149</td>\n",
       "    </tr>\n",
       "    <tr>\n",
       "      <th>...</th>\n",
       "      <td>...</td>\n",
       "      <td>...</td>\n",
       "      <td>...</td>\n",
       "      <td>...</td>\n",
       "      <td>...</td>\n",
       "      <td>...</td>\n",
       "      <td>...</td>\n",
       "      <td>...</td>\n",
       "      <td>...</td>\n",
       "      <td>...</td>\n",
       "      <td>...</td>\n",
       "    </tr>\n",
       "    <tr>\n",
       "      <th>303</th>\n",
       "      <td>2008</td>\n",
       "      <td>8</td>\n",
       "      <td>-0.266</td>\n",
       "      <td>384.15</td>\n",
       "      <td>1779.88</td>\n",
       "      <td>321.405</td>\n",
       "      <td>244.200</td>\n",
       "      <td>535.072</td>\n",
       "      <td>1365.6570</td>\n",
       "      <td>0.0036</td>\n",
       "      <td>0.407</td>\n",
       "    </tr>\n",
       "    <tr>\n",
       "      <th>304</th>\n",
       "      <td>2008</td>\n",
       "      <td>9</td>\n",
       "      <td>-0.643</td>\n",
       "      <td>383.09</td>\n",
       "      <td>1795.08</td>\n",
       "      <td>321.529</td>\n",
       "      <td>244.083</td>\n",
       "      <td>535.048</td>\n",
       "      <td>1365.6647</td>\n",
       "      <td>0.0043</td>\n",
       "      <td>0.378</td>\n",
       "    </tr>\n",
       "    <tr>\n",
       "      <th>305</th>\n",
       "      <td>2008</td>\n",
       "      <td>10</td>\n",
       "      <td>-0.780</td>\n",
       "      <td>382.99</td>\n",
       "      <td>1814.18</td>\n",
       "      <td>321.796</td>\n",
       "      <td>244.080</td>\n",
       "      <td>534.927</td>\n",
       "      <td>1365.6759</td>\n",
       "      <td>0.0046</td>\n",
       "      <td>0.440</td>\n",
       "    </tr>\n",
       "    <tr>\n",
       "      <th>306</th>\n",
       "      <td>2008</td>\n",
       "      <td>11</td>\n",
       "      <td>-0.621</td>\n",
       "      <td>384.13</td>\n",
       "      <td>1812.37</td>\n",
       "      <td>322.013</td>\n",
       "      <td>244.225</td>\n",
       "      <td>534.906</td>\n",
       "      <td>1365.7065</td>\n",
       "      <td>0.0048</td>\n",
       "      <td>0.394</td>\n",
       "    </tr>\n",
       "    <tr>\n",
       "      <th>307</th>\n",
       "      <td>2008</td>\n",
       "      <td>12</td>\n",
       "      <td>-0.666</td>\n",
       "      <td>385.56</td>\n",
       "      <td>1812.88</td>\n",
       "      <td>322.182</td>\n",
       "      <td>244.204</td>\n",
       "      <td>535.005</td>\n",
       "      <td>1365.6926</td>\n",
       "      <td>0.0046</td>\n",
       "      <td>0.330</td>\n",
       "    </tr>\n",
       "  </tbody>\n",
       "</table>\n",
       "<p>308 rows × 11 columns</p>\n",
       "</div>"
      ],
      "text/plain": [
       "     Year  Month    MEI     CO2      CH4      N2O   CFC-11   CFC-12  \\\n",
       "0    1983      5  2.556  345.96  1638.59  303.677  191.324  350.113   \n",
       "1    1983      6  2.167  345.52  1633.71  303.746  192.057  351.848   \n",
       "2    1983      7  1.741  344.15  1633.22  303.795  192.818  353.725   \n",
       "3    1983      8  1.130  342.25  1631.35  303.839  193.602  355.633   \n",
       "4    1983      9  0.428  340.17  1648.40  303.901  194.392  357.465   \n",
       "..    ...    ...    ...     ...      ...      ...      ...      ...   \n",
       "303  2008      8 -0.266  384.15  1779.88  321.405  244.200  535.072   \n",
       "304  2008      9 -0.643  383.09  1795.08  321.529  244.083  535.048   \n",
       "305  2008     10 -0.780  382.99  1814.18  321.796  244.080  534.927   \n",
       "306  2008     11 -0.621  384.13  1812.37  322.013  244.225  534.906   \n",
       "307  2008     12 -0.666  385.56  1812.88  322.182  244.204  535.005   \n",
       "\n",
       "           TSI  Aerosols   Temp  \n",
       "0    1366.1024    0.0863  0.109  \n",
       "1    1366.1208    0.0794  0.118  \n",
       "2    1366.2850    0.0731  0.137  \n",
       "3    1366.4202    0.0673  0.176  \n",
       "4    1366.2335    0.0619  0.149  \n",
       "..         ...       ...    ...  \n",
       "303  1365.6570    0.0036  0.407  \n",
       "304  1365.6647    0.0043  0.378  \n",
       "305  1365.6759    0.0046  0.440  \n",
       "306  1365.7065    0.0048  0.394  \n",
       "307  1365.6926    0.0046  0.330  \n",
       "\n",
       "[308 rows x 11 columns]"
      ]
     },
     "execution_count": 7,
     "metadata": {},
     "output_type": "execute_result"
    }
   ],
   "source": [
    "df = pd.read_csv('../data/climate_change.csv')\n",
    "df"
   ]
  },
  {
   "cell_type": "markdown",
   "id": "b3043eec",
   "metadata": {},
   "source": [
    "#  Análisis y visualizaciones en Python"
   ]
  },
  {
   "cell_type": "code",
   "execution_count": 8,
   "id": "af3c6625",
   "metadata": {},
   "outputs": [
    {
     "name": "stdout",
     "output_type": "stream",
     "text": [
      "Correlación de Pearson entre Temp y CO2: 0.7485046457380218\n"
     ]
    },
    {
     "data": {
      "image/png": "[encoded data removed]",
      "text/plain": [
       "<Figure size 800x600 with 1 Axes>"
      ]
     },
     "metadata": {},
     "output_type": "display_data"
    },
    {
     "data": {
      "image/png": "[encoded data removed]",
      "text/plain": [
       "<Figure size 1000x600 with 2 Axes>"
      ]
     },
     "metadata": {},
     "output_type": "display_data"
    }
   ],
   "source": [
    "# Correlación entre Temp y CO2\n",
    "corr = df[\"Temp\"].corr(df[\"CO2\"])\n",
    "print(\"Correlación de Pearson entre Temp y CO2:\", corr)\n",
    "\n",
    "# Gráfico de dispersión con línea de tendencia\n",
    "plt.figure(figsize=(8,6))\n",
    "sns.regplot(x=\"CO2\", y=\"Temp\", data=df, scatter_kws={\"alpha\":0.6}, line_kws={\"color\":\"red\"})\n",
    "plt.title(\"Relación entre CO2 y Temp\")\n",
    "plt.xlabel(\"Concentración de CO2 (ppmv)\")\n",
    "plt.ylabel(\"Temperatura (°C por encima del promedio histórico)\")\n",
    "plt.show()\n",
    "\n",
    "# Heatmap de correlación entre múltiples variables numéricas\n",
    "plt.figure(figsize=(10,6))\n",
    "sns.heatmap(df[[\"Temp\",\"CO2\",\"CH4\",\"N2O\",\"TSI\",\"Aerosols\"]].corr(), annot=True, cmap=\"coolwarm\")\n",
    "plt.title(\"Matriz de correlación entre variables climáticas\")\n",
    "plt.show()"
   ]
  },
  {
   "cell_type": "markdown",
   "id": "461d57fc",
   "metadata": {},
   "source": [
    "El análisis del heatmap de correlación y del diagrama de dispersión evidencia que **CO₂ mantiene una relación positiva fuerte con la variable Temp**. No obstante, la asociación no parece ser estrictamente lineal, especialmente en los valores más altos de CO₂, donde la pendiente del gráfico se atenúa. Para confirmar esta tendencia y evaluar una posible relación monótona no lineal, resulta pertinente calcular también el **coeficiente de correlación de Spearman**.\n"
   ]
  },
  {
   "cell_type": "code",
   "execution_count": 10,
   "id": "0f054d91",
   "metadata": {},
   "outputs": [
    {
     "name": "stdout",
     "output_type": "stream",
     "text": [
      "Coeficiente de Pearson: 0.7485046457380211\n",
      "Valor p (Pearson): 1.5578804156203076e-56\n",
      "Coeficiente de Spearman: 0.7767509604626791\n",
      "Valor p (Spearman): 2.1144272950582172e-63\n"
     ]
    }
   ],
   "source": [
    "# Correlación de Pearson\n",
    "pearson_corr, p_value_pearson = stats.pearsonr(df[\"CO2\"], df[\"Temp\"])\n",
    "print(\"Coeficiente de Pearson:\", pearson_corr)\n",
    "print(\"Valor p (Pearson):\", p_value_pearson)\n",
    "\n",
    "# Correlación de Spearman (no lineal)\n",
    "spearman_corr, p_value_spearman = stats.spearmanr(df[\"CO2\"], df[\"Temp\"])\n",
    "print(\"Coeficiente de Spearman:\", spearman_corr)\n",
    "print(\"Valor p (Spearman):\", p_value_spearman)"
   ]
  },
  {
   "cell_type": "markdown",
   "id": "bf903f82",
   "metadata": {},
   "source": [
    "El **coeficiente de Pearson** obtenido fue **0.749** con un valor *p* de **1.55e-56**. Esto indica una **correlación lineal positiva fuerte** entre la concentración de CO₂ y la variable *Temp*, y la significancia estadística es muy alta (p < 0.05), por lo que se descarta que la relación sea producto del azar.\n",
    "\n",
    "El **coeficiente de Spearman** fue **0.777** con un valor *p* de **2.11e-63**, lo cual también refleja una **correlación positiva fuerte**, pero en este caso de tipo **monótona**. Esto confirma que, aunque la relación no sea perfectamente lineal en todos los rangos de CO₂, la temperatura tiende a aumentar consistentemente conforme lo hacen los niveles de CO₂.\n",
    "\n",
    "En conjunto, ambos resultados respaldan la conclusión de que **el incremento de CO₂ está estrechamente asociado con el aumento de la temperatura global** en el período analizado (1983–2008).\n"
   ]
  },
  {
   "cell_type": "code",
   "execution_count": 12,
   "id": "795b9c25",
   "metadata": {},
   "outputs": [
    {
     "name": "stderr",
     "output_type": "stream",
     "text": [
      "C:\\Users\\Juan Jose\\AppData\\Local\\Temp\\ipykernel_18008\\1627820669.py:5: FutureWarning: \n",
      "\n",
      "Passing `palette` without assigning `hue` is deprecated and will be removed in v0.14.0. Assign the `x` variable to `hue` and set `legend=False` for the same effect.\n",
      "\n",
      "  sns.boxplot(x=\"CO2_categoria\", y=\"Temp\", data=df, palette=\"Set2\")\n"
     ]
    },
    {
     "data": {
      "image/png": "[encoded data removed]",
      "text/plain": [
       "<Figure size 800x600 with 1 Axes>"
      ]
     },
     "metadata": {},
     "output_type": "display_data"
    }
   ],
   "source": [
    "# Crear categorías de CO2 por cuartiles\n",
    "df[\"CO2_categoria\"] = pd.qcut(df[\"CO2\"], q=4, labels=[\"Bajo\",\"Medio-Bajo\",\"Medio-Alto\",\"Alto\"])\n",
    "\n",
    "plt.figure(figsize=(8,6))\n",
    "sns.boxplot(x=\"CO2_categoria\", y=\"Temp\", data=df, palette=\"Set2\")\n",
    "plt.title(\"Distribución de la temperatura según niveles de CO2\")\n",
    "plt.xlabel(\"Nivel de CO2 (cuartiles)\")\n",
    "plt.ylabel(\"Temperatura (°C)\")\n",
    "plt.show()"
   ]
  },
  {
   "cell_type": "markdown",
   "id": "4c76efe1",
   "metadata": {},
   "source": [
    "El **boxplot de temperatura según niveles de CO₂** muestra un desplazamiento progresivo de la mediana hacia valores más altos conforme aumentan las concentraciones de CO₂. En el grupo **“Bajo”**, la mediana se ubica cerca de 0 °C, mientras que en el grupo **“Alto”** supera los 0.4 °C. Además, la dispersión de valores es mayor en las categorías intermedias, lo que indica una mayor variabilidad de la temperatura en estos rangos. La presencia de algunos outliers refleja episodios puntuales de temperaturas extremas, pero no modifica la tendencia general."
   ]
  },
  {
   "cell_type": "code",
   "execution_count": 13,
   "id": "c3c82739",
   "metadata": {},
   "outputs": [
    {
     "name": "stderr",
     "output_type": "stream",
     "text": [
      "C:\\Users\\Juan Jose\\AppData\\Local\\Temp\\ipykernel_18008\\2535798005.py:2: FutureWarning: \n",
      "\n",
      "The `ci` parameter is deprecated. Use `errorbar=None` for the same effect.\n",
      "\n",
      "  sns.barplot(x=\"CO2_categoria\", y=\"Temp\", data=df, estimator=np.mean, ci=None, palette=\"muted\")\n",
      "C:\\Users\\Juan Jose\\AppData\\Local\\Temp\\ipykernel_18008\\2535798005.py:2: FutureWarning: \n",
      "\n",
      "Passing `palette` without assigning `hue` is deprecated and will be removed in v0.14.0. Assign the `x` variable to `hue` and set `legend=False` for the same effect.\n",
      "\n",
      "  sns.barplot(x=\"CO2_categoria\", y=\"Temp\", data=df, estimator=np.mean, ci=None, palette=\"muted\")\n"
     ]
    },
    {
     "data": {
      "image/png": "[encoded data removed]",
      "text/plain": [
       "<Figure size 800x600 with 1 Axes>"
      ]
     },
     "metadata": {},
     "output_type": "display_data"
    }
   ],
   "source": [
    "plt.figure(figsize=(8,6))\n",
    "sns.barplot(x=\"CO2_categoria\", y=\"Temp\", data=df, estimator=np.mean, ci=None, palette=\"muted\")\n",
    "plt.title(\"Temperatura promedio por categoría de CO2\")\n",
    "plt.xlabel(\"Categoría de CO2\")\n",
    "plt.ylabel(\"Temperatura promedio (°C)\")\n",
    "plt.show()"
   ]
  },
  {
   "cell_type": "markdown",
   "id": "e29fa2a9",
   "metadata": {},
   "source": [
    "El **gráfico de barras de temperatura promedio por categoría de CO₂** confirma esta relación, evidenciando un incremento sistemático de la temperatura promedio: desde aproximadamente **0.08 °C en el grupo “Bajo”** hasta más de **0.42 °C en el grupo “Alto”**. La progresión es prácticamente lineal, lo que refuerza la idea de un vínculo estrecho entre el aumento del CO₂ y el calentamiento global.\n",
    "\n",
    "En conjunto, ambos gráficos coinciden en señalar que **mayores concentraciones de CO₂ se asocian con incrementos sostenidos en la temperatura global**. Estos resultados respaldan la hipótesis de que los gases de efecto invernadero desempeñan un papel determinante en el cambio climático.\n"
   ]
  },
  {
   "cell_type": "markdown",
   "id": "ba9c3cd3",
   "metadata": {},
   "source": [
    "# Conclusiones\n",
    "\n",
    "El análisis bivariado entre la concentración de **CO₂** y la variable **Temp** permitió identificar una **correlación positiva fuerte y estadísticamente significativa**. Tanto el coeficiente de Pearson (0.75) como el de Spearman (0.78) confirmaron que, a medida que aumentan las concentraciones de CO₂ en la atmósfera, la temperatura global tiende a incrementarse de manera consistente.  \n",
    "\n",
    "Las visualizaciones refuerzan este hallazgo: el diagrama de dispersión mostró una tendencia creciente, mientras que los boxplots y el gráfico de barras evidenciaron un aumento sistemático de la temperatura al pasar de niveles bajos a altos de CO₂. El heatmap, por su parte, reveló que otros gases de efecto invernadero como CH₄ y N₂O también mantienen relaciones positivas con la temperatura, lo que sugiere un patrón multivariable en la dinámica del calentamiento global.  \n",
    "\n",
    "En el contexto del conjunto de datos, esta relación respalda la hipótesis científica de que las emisiones de gases de efecto invernadero son un factor determinante en el cambio climático. Como próximos pasos, sería pertinente realizar un **análisis multivariado** que incluya otras variables (CH₄, N₂O, aerosoles, TSI) y evaluar modelos predictivos que permitan cuantificar la contribución relativa de cada uno de estos factores al incremento de la temperatura global aplicando métodos de regularización como Ridge para reducir el impacto de las variables que no sean significativas para los modelos o que tengan colinealidad con otras..\n"
   ]
  }
 ],
 "metadata": {
  "kernelspec": {
   "display_name": "Python 3",
   "language": "python",
   "name": "python3"
  },
  "language_info": {
   "codemirror_mode": {
    "name": "ipython",
    "version": 3
   },
   "file_extension": ".py",
   "mimetype": "text/x-python",
   "name": "python",
   "nbconvert_exporter": "python",
   "pygments_lexer": "ipython3",
   "version": "3.11.9"
  }
 },
 "nbformat": 4,
 "nbformat_minor": 5
}
