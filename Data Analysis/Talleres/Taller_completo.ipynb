{
  "cells": [
    {
      "cell_type": "markdown",
      "id": "024e628d",
      "metadata": {
        "id": "024e628d"
      },
      "source": [
        "# Integrantes\n",
        "**Juan José Aguado, Juan David Cruz, Mike Martínez y Juan Diego Ramírez**"
      ]
    },
    {
      "cell_type": "markdown",
      "id": "88a53dea",
      "metadata": {
        "id": "88a53dea"
      },
      "source": [
        "# Libs"
      ]
    },
    {
      "cell_type": "code",
      "execution_count": 20,
      "id": "7dce1c9d",
      "metadata": {
        "id": "7dce1c9d"
      },
      "outputs": [],
      "source": [
        "import pandas as pd\n",
        "import seaborn as sns\n",
        "import matplotlib.pyplot as plt\n",
        "import numpy as np\n",
        "import scipy.stats as stats\n",
        "from sklearn.model_selection import train_test_split\n",
        "from sklearn.preprocessing import StandardScaler\n",
        "from sklearn.linear_model import LinearRegression\n",
        "from sklearn.metrics import r2_score, mean_squared_error\n",
        "from sklearn.linear_model import Ridge\n",
        "from sklearn.pipeline import Pipeline\n"
      ]
    },
    {
      "cell_type": "markdown",
      "id": "fc6e829f",
      "metadata": {
        "id": "fc6e829f"
      },
      "source": [
        "# 1. Pregunta SMART y contexto\n"
      ]
    },
    {
      "cell_type": "markdown",
      "id": "b14c08e3",
      "metadata": {
        "id": "b14c08e3"
      },
      "source": [
        "### **Introducción: Primera Pregunta SMART: Invalidación de la Pregunta de Investigación por Deficiencias en el Conjunto de Datos**\n",
        "\n",
        "Inicialmente, el objetivo se articuló en torno a una pregunta de investigación formulada bajo el marco SMART. Dicha pregunta buscaba determinar la medida en que las variaciones anuales en indicadores clave —tales como la temperatura promedio, las emisiones de CO₂, el porcentaje de energía renovable y la cobertura forestal— podrían explicar la frecuencia de eventos climáticos extremos en un periodo definido (2000-2024), con el fin de proyectar su comportamiento futuro. La formulación de esta pregunta partía de la hipótesis de que existían relaciones subyacentes y cuantificables entre estas variables, fundamentadas en principios de la ciencia climática.\n",
        "\n",
        "Como paso metodológico fundamental y previo a cualquier intento de modelado predictivo, se llevó a cabo un riguroso Análisis Exploratorio de Datos (EDA). Sin embargo, los hallazgos de esta fase analítica, detallados en el cuaderno de análisis [disponible aquí](https://www.google.com/search?q=https://github.com/1KVueltasAlCampo/analisis-de-datos-maestria-icesi/blob/main/Analisis_univariado_y_bivariado.ipynb), revelaron anomalías estadísticas insuperables que invalidan el conjunto de datos para el propósito planteado. Se identificó una **ausencia total de correlación lineal entre la totalidad de las variables**. De particular relevancia fue la inexistencia de una relación entre las emisiones de CO₂ y la temperatura promedio, una conclusión que contradice principios fundamentales y ampliamente documentados de la ciencia del clima.\n",
        "\n",
        "Ante esta evidencia, se concluyó que el conjunto de datos inicial carecía de validez externa y no representaba la dinámica del sistema climático real. Por consiguiente, se determinó que la pregunta SMART original, aunque conceptualmente sólida, era irresoluble con la fuente de datos disponible, obligando a descartar su uso para evitar la generación de conclusiones espurias.\n",
        "\n",
        "En respuesta a esta limitación, el proyecto se reorienta hacia un nuevo problema, fundamentado en un conjunto de datos validado que contiene registros climáticos mensuales desde mayo de 1983 hasta diciembre de 2008. Una inspección preliminar de esta nueva fuente de datos muestra un comportamiento consistente con la literatura científica, observándose tendencias temporales claras y correlaciones lógicas entre sus variables. El dataset integra mediciones de gases de efecto invernadero ($CO\\_2$, $N\\_2O$, $CH\\_4$, CFCs), aerosoles estratosféricos, irradiancia solar total (TSI) y el índice oceánico-atmosférico MEI."
      ]
    },
    {
      "cell_type": "markdown",
      "id": "555990c5",
      "metadata": {
        "id": "555990c5"
      },
      "source": [
        "#### **Descripción del Problema**\n",
        "\n",
        "El consenso científico, consolidado a través de décadas de investigación y articulado por entidades como el Panel Intergubernamental sobre el Cambio Climático (IPCC), establece de manera inequívoca que el sistema climático de la Tierra está experimentando un calentamiento antropogénico sin precedentes (Hansen et al., 2022). La base física de este fenómeno reside en el concepto de **forzamiento radiativo**, que describe la alteración del balance energético planetario debido a la acción de diversos agentes. Investigaciones fundamentales, como las recogidas en el informe del IPCC (Shine et al., 1990), demuestran que el principal impulsor de este calentamiento es el aumento sostenido en las concentraciones de gases de efecto invernadero (GEI) de larga vida, como el dióxido de carbono ($CO_2$), el metano ($CH_4$), el óxido nitroso ($N_2O$) y los clorofluorocarbonos (CFCs).\n",
        "\n",
        "Sin embargo, la respuesta de la temperatura global no es una función lineal y exclusiva de los GEI. La dinámica climática es el resultado de una compleja interacción de múltiples factores que operan en distintas escalas temporales. A la tendencia de calentamiento a largo plazo inducida por los GEI se superponen otros forzamientos y ciclos de variabilidad interna. Entre ellos destacan:\n",
        "1.  **Forzamientos negativos**, como los aerosoles estratosféricos, principalmente de origen volcánico, que reflejan la radiación solar y provocan enfriamientos temporales significativos (Shine et al., 1990).\n",
        "2.  **Forzamientos naturales externos**, como las variaciones en la Irradiancia Solar Total (TSI), que, si bien tienen una magnitud menor en comparación con el forzamiento antropogénico reciente, contribuyen a la variabilidad climática.\n",
        "3.  **Variabilidad interna del sistema climático**, cuyo modo dominante es la Oscilación del Sur de El Niño (ENSO), que explica una gran parte de las fluctuaciones de temperatura interanuales observadas (Hansen et al., 2022).\n",
        "\n",
        "A pesar del robusto entendimiento de estos mecanismos individuales, el principal desafío científico y práctico reside en la **cuantificación de la contribución relativa y la interacción de estos agentes** para explicar la evolución observada de la temperatura global. Esta brecha de conocimiento no es meramente académica; tiene profundas implicaciones para la toma de decisiones. Como argumentan Lemos & Rood (2010), la percepción de una alta incertidumbre y complejidad es a menudo un obstáculo para la formulación de políticas efectivas, creando una parálisis decisional. La transición de un conocimiento científico \"útil\" (que describe el problema en términos generales) a uno \"usable\" (que puede informar estrategias de mitigación y adaptación) requiere de herramientas que puedan desglosar esta complejidad.\n",
        "\n",
        "Tomando lo anterior en consideración, el alcance de este proyecto es desarrollar un modelo empírico basado en datos que permita **cuantificar la sensibilidad de la anomalía de la temperatura global a las variaciones en sus principales forzamientos y modos de variabilidad interna** durante el periodo 1983-2008. El objetivo es construir un marco analítico que no solo pueda explicar la dinámica histórica de la temperatura, sino también jerarquizar la importancia relativa de cada factor (GEI, aerosoles, TSI, ENSO), proveyendo así una herramienta más \"usable\" para contextualizar las causas del cambio climático y evaluar la efectividad potencial de distintas intervenciones."
      ]
    },
    {
      "cell_type": "markdown",
      "id": "5ec0b741",
      "metadata": {
        "id": "5ec0b741"
      },
      "source": [
        "#### **2. Justificación del Uso de Ciencia de Datos e IA**\n",
        "\n",
        "El conjunto de datos `climate_change.csv` proporciona una serie temporal multivariada que encapsula las principales señales de forzamiento y la respuesta del sistema climático global. La tarea de cuantificar la relación entre estos factores y la anomalía de la temperatura (`Temp`) demanda un enfoque metodológico que pueda manejar la complejidad de las interacciones y las distintas escalas temporales presentes en los datos. La Ciencia de Datos y la Inteligencia Artificial (IA) ofrecen un marco analítico idóneo para este desafío, permitiendo una evaluación sistemática y comparativa de diferentes modelos para explicar la dinámica observada.\n",
        "\n",
        "La aplicación de un conjunto diverso de técnicas de aprendizaje automático (Machine Learning) para la predicción de la temperatura está bien establecida en la literatura climatológica. Un estudio relevante de **Azari et al. (2022)** evaluó la eficacia de múltiples métodos de ML —desde modelos simples hasta ensambles— para la predicción de la temperatura, concluyendo que un marco comparativo es esencial para identificar el enfoque más adecuado. Dicho estudio subraya la validez de utilizar un espectro de modelos para capturar la naturaleza multifactorial de la temperatura atmosférica.\n",
        "\n",
        "Siguiendo esta premisa, un primer paso metodológico clave es el uso de **modelos de regresión lineal múltiple**. Este enfoque se considera fundamental para establecer una línea de base cuantitativa robusta puesto que permite cuantificar las relaciones lineales primarias entre los predictores (concentraciones de GEI, TSI, aerosoles, MEI) y la temperatura, ofreciendo una alta interpretabilidad y una primera aproximación a la magnitud de la influencia de cada factor. La investigación de **Azari et al. (2022)** respalda la fortaleza de este método, ya que en su análisis comparativo, la Regresión Lineal demostró un rendimiento predictivo muy competitivo, solo superado por modelos más complejos.\n",
        "\n",
        "Sin embargo, es ampliamente reconocido que el sistema climático contiene **dinámicas no lineales y efectos de interacción** que los modelos lineales no pueden capturar por completo. Por ejemplo, la relación entre las concentraciones de GEI y el forzamiento radiativo no es estrictamente lineal, y los efectos de los forzamientos pueden estar modulados por el estado del sistema (ej. fase de ENSO). Por ello, a futuro es imperativo explorar modelos de aprendizaje automático capaces de aprender estas complejidades. Métodos como los **ensambles de árboles de decisión (ej. Random Forest)** o las **Redes Neuronales Artificiales (ANN)** son particularmente aptos para esta tarea. El trabajo de **Azari et al. (2022)** nuevamente justifica este paso, al encontrar que una ANN fue el modelo que, en última instancia, logró la mayor precisión predictiva, sugiriendo la existencia de patrones no lineales valiosos que dicho modelo pudo identificar.\n",
        "\n",
        "En conclusión, el uso de la Ciencia de Datos y la IA para este problema no se enfoca en la aplicación de un único algoritmo complejo, sino en la implementación de un **enfoque estratégico y comparativo**. Al comenzar con modelos lineales se puede mejorar ampliamente la interpretabilidad y establecer un rendimiento base, para luego explorar de manera sistemática modelos no lineales con el fin de capturar la complejidad adicional del sistema climático."
      ]
    },
    {
      "cell_type": "markdown",
      "id": "623560aa",
      "metadata": {
        "id": "623560aa"
      },
      "source": [
        "\n",
        "#### **3. Formulación de una Pregunta SMART**\n",
        "\n",
        "¿En qué medida es posible explicar la varianza de la anomalía de la temperatura global mensual entre mayo de 1983 y diciembre de 2008, y cuál es la magnitud, dirección y significancia estadística de la relación lineal entre esta y sus principales forzamientos (gases de efecto invernadero, aerosoles, irradiancia solar) y modos de variabilidad interna (ENSO)?\n",
        "\n",
        "* **Específica (Specific):** La pregunta se enfoca de manera precisa en cuantificar la relación **lineal** entre un conjunto definido de variables predictoras (concentraciones de $CO_2$, $CH_4$, $N_2O$, CFCs, aerosoles, TSI y MEI) y una única variable objetivo (anomalía de la temperatura global). Delimita el análisis al marco de la regresión lineal múltiple, buscando determinar los coeficientes del modelo como medida de impacto.\n",
        "\n",
        "* **Medible (Measurable):** El éxito del modelo se medirá a través de métricas estadísticas estándar y rigurosas. La capacidad explicativa global se evaluará con el **coeficiente de determinación (R²)**, con el objetivo de validar una capacidad predictiva considerable (superior a 0.70, en línea con los resultados preliminares). La magnitud y dirección de las relaciones se medirán directamente a través de los **coeficientes numéricos** obtenidos para cada predictor, y su robustez será evaluada por su **significancia estadística (valores p)**.\n",
        "\n",
        "* **Accionable (Actionable):** Los resultados son directamente accionables al proveer una herramienta empírica para la toma de decisiones informadas. Los coeficientes del modelo cuantifican el cambio esperado en la temperatura por cada unidad de cambio en un forzamiento específico (ej. un aumento de 1 ppmv en $CO_2$). Esto transforma el modelo en un **simulador de escenarios simplificado**, permitiendo a los responsables de políticas públicas estimar y comparar el impacto relativo de la mitigación de diferentes gases, priorizando así las intervenciones sobre aquellos con mayor influencia lineal demostrada, como el $CO_2$ y el CFC-12.\n",
        "\n",
        "* **Relevante (Relevant):** La pregunta es altamente relevante porque aborda directamente el desafío central expuesto en la Descripción del Problema: la **cuantificación de la contribución relativa** de los diversos agentes que impulsan el cambio climático. Al establecer una línea de base robusta y altamente interpretable, proporciona una respuesta empírica a una de las preguntas fundamentales de la climatología, traduciendo el conocimiento científico complejo en una herramienta analítica \"usable\" para el análisis de políticas, tal como lo demandan marcos conceptuales como el de Lemos & Rood (2010).\n",
        "\n",
        "* **Temporal (Time-bound):** El alcance del análisis está estrictamente definido por el marco temporal del conjunto de datos disponible, abarcando el periodo histórico comprendido entre **mayo de 1983 y diciembre de 2008**. Todas las conclusiones y cuantificaciones se referirán a la dinámica observada dentro de este intervalo específico."
      ]
    },
    {
      "cell_type": "markdown",
      "id": "29038c7b",
      "metadata": {
        "id": "29038c7b"
      },
      "source": [
        "\n",
        "#### **Referencias:**\n",
        "\n",
        "* **Hansen, J., Sato, M., & Ruedy, R. (2022).** *Global Temperature in 2021*. Columbia University Earth Institute. Recuperado de [https://www.columbia.edu/~mhs119/Temperature/Emails/Annual2021.pdf](https://www.columbia.edu/~mhs119/Temperature/Emails/Annual2021.pdf)\n",
        "* **Lemos, M. C., & Rood, R. B. (2010).** Climate projections and their impact on policy and practice. *WIREs Climate Change*, 1(5), 670–682.\n",
        "* **Shine, K. P., Derwent, R. G., Wuebbles, D. J., & Morcrette, J-J. (1990).** Radiative Forcing of Climate. En J. T. Houghton, G. J. Jenkins, & J. J. Ephraums (Eds.), *Climate Change: The IPCC Scientific Assessment* (pp. 41-68). Cambridge University Press.\n",
        "* **Azari, B., Hassan, K., Pierce, J., & Ebrahimi, S. (2022).** Evaluation of Machine Learning Methods Application in Temperature Prediction. Computational Research Progress in Applied Science & Engineering, 8(1), 1–12. https://doi.org/10.52547/crpase.8.1.2747"
      ]
    },
    {
      "cell_type": "markdown",
      "id": "5ca5bdec",
      "metadata": {
        "id": "5ca5bdec"
      },
      "source": [
        "Link al dataset: https://www.kaggle.com/datasets/econdata/climate-change\n",
        "Link al vídeo de la presentación: https://youtu.be/jLZW2SrAu2I"
      ]
    },
    {
      "cell_type": "code",
      "execution_count": 6,
      "id": "930c3be6",
      "metadata": {
        "colab": {
          "base_uri": "https://localhost:8080/",
          "height": 424
        },
        "id": "930c3be6",
        "outputId": "9f7e2495-3db5-4199-cd84-76724c96d315"
      },
      "outputs": [
        {
          "data": {
            "application/vnd.google.colaboratory.intrinsic+json": {
              "summary": "{\n  \"name\": \"df\",\n  \"rows\": 308,\n  \"fields\": [\n    {\n      \"column\": \"Year\",\n      \"properties\": {\n        \"dtype\": \"number\",\n        \"std\": 7,\n        \"min\": 1983,\n        \"max\": 2008,\n        \"num_unique_values\": 26,\n        \"samples\": [\n          1991,\n          1999,\n          1983\n        ],\n        \"semantic_type\": \"\",\n        \"description\": \"\"\n      }\n    },\n    {\n      \"column\": \"Month\",\n      \"properties\": {\n        \"dtype\": \"number\",\n        \"std\": 3,\n        \"min\": 1,\n        \"max\": 12,\n        \"num_unique_values\": 12,\n        \"samples\": [\n          3,\n          2,\n          5\n        ],\n        \"semantic_type\": \"\",\n        \"description\": \"\"\n      }\n    },\n    {\n      \"column\": \"MEI\",\n      \"properties\": {\n        \"dtype\": \"number\",\n        \"std\": 0.9379184591591944,\n        \"min\": -1.635,\n        \"max\": 3.001,\n        \"num_unique_values\": 294,\n        \"samples\": [\n          0.033,\n          0.131,\n          -0.468\n        ],\n        \"semantic_type\": \"\",\n        \"description\": \"\"\n      }\n    },\n    {\n      \"column\": \"CO2\",\n      \"properties\": {\n        \"dtype\": \"number\",\n        \"std\": 12.647124861976312,\n        \"min\": 340.17,\n        \"max\": 388.5,\n        \"num_unique_values\": 298,\n        \"samples\": [\n          364.09,\n          382.16,\n          379.76\n        ],\n        \"semantic_type\": \"\",\n        \"description\": \"\"\n      }\n    },\n    {\n      \"column\": \"CH4\",\n      \"properties\": {\n        \"dtype\": \"number\",\n        \"std\": 46.05167823751579,\n        \"min\": 1629.89,\n        \"max\": 1814.18,\n        \"num_unique_values\": 303,\n        \"samples\": [\n          1779.0,\n          1766.58,\n          1729.78\n        ],\n        \"semantic_type\": \"\",\n        \"description\": \"\"\n      }\n    },\n    {\n      \"column\": \"N2O\",\n      \"properties\": {\n        \"dtype\": \"number\",\n        \"std\": 5.225130729644338,\n        \"min\": 303.677,\n        \"max\": 322.182,\n        \"num_unique_values\": 304,\n        \"samples\": [\n          313.542,\n          311.533,\n          309.985\n        ],\n        \"semantic_type\": \"\",\n        \"description\": \"\"\n      }\n    },\n    {\n      \"column\": \"CFC-11\",\n      \"properties\": {\n        \"dtype\": \"number\",\n        \"std\": 20.231783175034032,\n        \"min\": 191.324,\n        \"max\": 271.494,\n        \"num_unique_values\": 307,\n        \"samples\": [\n          265.911,\n          246.043,\n          270.685\n        ],\n        \"semantic_type\": \"\",\n        \"description\": \"\"\n      }\n    },\n    {\n      \"column\": \"CFC-12\",\n      \"properties\": {\n        \"dtype\": \"number\",\n        \"std\": 57.826898833994946,\n        \"min\": 350.113,\n        \"max\": 543.813,\n        \"num_unique_values\": 307,\n        \"samples\": [\n          536.489,\n          444.729,\n          513.455\n        ],\n        \"semantic_type\": \"\",\n        \"description\": \"\"\n      }\n    },\n    {\n      \"column\": \"TSI\",\n      \"properties\": {\n        \"dtype\": \"number\",\n        \"std\": 0.3996095493561554,\n        \"min\": 1365.4261,\n        \"max\": 1367.3162,\n        \"num_unique_values\": 302,\n        \"samples\": [\n          1365.9614,\n          1366.3053,\n          1366.1615\n        ],\n        \"semantic_type\": \"\",\n        \"description\": \"\"\n      }\n    },\n    {\n      \"column\": \"Aerosols\",\n      \"properties\": {\n        \"dtype\": \"number\",\n        \"std\": 0.029049569804330266,\n        \"min\": 0.0016,\n        \"max\": 0.1494,\n        \"num_unique_values\": 155,\n        \"samples\": [\n          0.1494,\n          0.0028,\n          0.0122\n        ],\n        \"semantic_type\": \"\",\n        \"description\": \"\"\n      }\n    },\n    {\n      \"column\": \"Temp\",\n      \"properties\": {\n        \"dtype\": \"number\",\n        \"std\": 0.17908976824102688,\n        \"min\": -0.282,\n        \"max\": 0.739,\n        \"num_unique_values\": 242,\n        \"samples\": [\n          0.001,\n          0.232,\n          0.366\n        ],\n        \"semantic_type\": \"\",\n        \"description\": \"\"\n      }\n    }\n  ]\n}",
              "type": "dataframe",
              "variable_name": "df"
            },
            "text/html": [
              "\n",
              "  <div id=\"df-a8372690-1794-4aba-af64-d7f88893c352\" class=\"colab-df-container\">\n",
              "    <div>\n",
              "<style scoped>\n",
              "    .dataframe tbody tr th:only-of-type {\n",
              "        vertical-align: middle;\n",
              "    }\n",
              "\n",
              "    .dataframe tbody tr th {\n",
              "        vertical-align: top;\n",
              "    }\n",
              "\n",
              "    .dataframe thead th {\n",
              "        text-align: right;\n",
              "    }\n",
              "</style>\n",
              "<table border=\"1\" class=\"dataframe\">\n",
              "  <thead>\n",
              "    <tr style=\"text-align: right;\">\n",
              "      <th></th>\n",
              "      <th>Year</th>\n",
              "      <th>Month</th>\n",
              "      <th>MEI</th>\n",
              "      <th>CO2</th>\n",
              "      <th>CH4</th>\n",
              "      <th>N2O</th>\n",
              "      <th>CFC-11</th>\n",
              "      <th>CFC-12</th>\n",
              "      <th>TSI</th>\n",
              "      <th>Aerosols</th>\n",
              "      <th>Temp</th>\n",
              "    </tr>\n",
              "  </thead>\n",
              "  <tbody>\n",
              "    <tr>\n",
              "      <th>0</th>\n",
              "      <td>1983</td>\n",
              "      <td>5</td>\n",
              "      <td>2.556</td>\n",
              "      <td>345.96</td>\n",
              "      <td>1638.59</td>\n",
              "      <td>303.677</td>\n",
              "      <td>191.324</td>\n",
              "      <td>350.113</td>\n",
              "      <td>1366.1024</td>\n",
              "      <td>0.0863</td>\n",
              "      <td>0.109</td>\n",
              "    </tr>\n",
              "    <tr>\n",
              "      <th>1</th>\n",
              "      <td>1983</td>\n",
              "      <td>6</td>\n",
              "      <td>2.167</td>\n",
              "      <td>345.52</td>\n",
              "      <td>1633.71</td>\n",
              "      <td>303.746</td>\n",
              "      <td>192.057</td>\n",
              "      <td>351.848</td>\n",
              "      <td>1366.1208</td>\n",
              "      <td>0.0794</td>\n",
              "      <td>0.118</td>\n",
              "    </tr>\n",
              "    <tr>\n",
              "      <th>2</th>\n",
              "      <td>1983</td>\n",
              "      <td>7</td>\n",
              "      <td>1.741</td>\n",
              "      <td>344.15</td>\n",
              "      <td>1633.22</td>\n",
              "      <td>303.795</td>\n",
              "      <td>192.818</td>\n",
              "      <td>353.725</td>\n",
              "      <td>1366.2850</td>\n",
              "      <td>0.0731</td>\n",
              "      <td>0.137</td>\n",
              "    </tr>\n",
              "    <tr>\n",
              "      <th>3</th>\n",
              "      <td>1983</td>\n",
              "      <td>8</td>\n",
              "      <td>1.130</td>\n",
              "      <td>342.25</td>\n",
              "      <td>1631.35</td>\n",
              "      <td>303.839</td>\n",
              "      <td>193.602</td>\n",
              "      <td>355.633</td>\n",
              "      <td>1366.4202</td>\n",
              "      <td>0.0673</td>\n",
              "      <td>0.176</td>\n",
              "    </tr>\n",
              "    <tr>\n",
              "      <th>4</th>\n",
              "      <td>1983</td>\n",
              "      <td>9</td>\n",
              "      <td>0.428</td>\n",
              "      <td>340.17</td>\n",
              "      <td>1648.40</td>\n",
              "      <td>303.901</td>\n",
              "      <td>194.392</td>\n",
              "      <td>357.465</td>\n",
              "      <td>1366.2335</td>\n",
              "      <td>0.0619</td>\n",
              "      <td>0.149</td>\n",
              "    </tr>\n",
              "    <tr>\n",
              "      <th>...</th>\n",
              "      <td>...</td>\n",
              "      <td>...</td>\n",
              "      <td>...</td>\n",
              "      <td>...</td>\n",
              "      <td>...</td>\n",
              "      <td>...</td>\n",
              "      <td>...</td>\n",
              "      <td>...</td>\n",
              "      <td>...</td>\n",
              "      <td>...</td>\n",
              "      <td>...</td>\n",
              "    </tr>\n",
              "    <tr>\n",
              "      <th>303</th>\n",
              "      <td>2008</td>\n",
              "      <td>8</td>\n",
              "      <td>-0.266</td>\n",
              "      <td>384.15</td>\n",
              "      <td>1779.88</td>\n",
              "      <td>321.405</td>\n",
              "      <td>244.200</td>\n",
              "      <td>535.072</td>\n",
              "      <td>1365.6570</td>\n",
              "      <td>0.0036</td>\n",
              "      <td>0.407</td>\n",
              "    </tr>\n",
              "    <tr>\n",
              "      <th>304</th>\n",
              "      <td>2008</td>\n",
              "      <td>9</td>\n",
              "      <td>-0.643</td>\n",
              "      <td>383.09</td>\n",
              "      <td>1795.08</td>\n",
              "      <td>321.529</td>\n",
              "      <td>244.083</td>\n",
              "      <td>535.048</td>\n",
              "      <td>1365.6647</td>\n",
              "      <td>0.0043</td>\n",
              "      <td>0.378</td>\n",
              "    </tr>\n",
              "    <tr>\n",
              "      <th>305</th>\n",
              "      <td>2008</td>\n",
              "      <td>10</td>\n",
              "      <td>-0.780</td>\n",
              "      <td>382.99</td>\n",
              "      <td>1814.18</td>\n",
              "      <td>321.796</td>\n",
              "      <td>244.080</td>\n",
              "      <td>534.927</td>\n",
              "      <td>1365.6759</td>\n",
              "      <td>0.0046</td>\n",
              "      <td>0.440</td>\n",
              "    </tr>\n",
              "    <tr>\n",
              "      <th>306</th>\n",
              "      <td>2008</td>\n",
              "      <td>11</td>\n",
              "      <td>-0.621</td>\n",
              "      <td>384.13</td>\n",
              "      <td>1812.37</td>\n",
              "      <td>322.013</td>\n",
              "      <td>244.225</td>\n",
              "      <td>534.906</td>\n",
              "      <td>1365.7065</td>\n",
              "      <td>0.0048</td>\n",
              "      <td>0.394</td>\n",
              "    </tr>\n",
              "    <tr>\n",
              "      <th>307</th>\n",
              "      <td>2008</td>\n",
              "      <td>12</td>\n",
              "      <td>-0.666</td>\n",
              "      <td>385.56</td>\n",
              "      <td>1812.88</td>\n",
              "      <td>322.182</td>\n",
              "      <td>244.204</td>\n",
              "      <td>535.005</td>\n",
              "      <td>1365.6926</td>\n",
              "      <td>0.0046</td>\n",
              "      <td>0.330</td>\n",
              "    </tr>\n",
              "  </tbody>\n",
              "</table>\n",
              "<p>308 rows × 11 columns</p>\n",
              "</div>\n",
              "    <div class=\"colab-df-buttons\">\n",
              "\n",
              "  <div class=\"colab-df-container\">\n",
              "    <button class=\"colab-df-convert\" onclick=\"convertToInteractive('df-a8372690-1794-4aba-af64-d7f88893c352')\"\n",
              "            title=\"Convert this dataframe to an interactive table.\"\n",
              "            style=\"display:none;\">\n",
              "\n",
              "  <svg xmlns=\"http://www.w3.org/2000/svg\" height=\"24px\" viewBox=\"0 -960 960 960\">\n",
              "    <path d=\"M120-120v-720h720v720H120Zm60-500h600v-160H180v160Zm220 220h160v-160H400v160Zm0 220h160v-160H400v160ZM180-400h160v-160H180v160Zm440 0h160v-160H620v160ZM180-180h160v-160H180v160Zm440 0h160v-160H620v160Z\"/>\n",
              "  </svg>\n",
              "    </button>\n",
              "\n",
              "  <style>\n",
              "    .colab-df-container {\n",
              "      display:flex;\n",
              "      gap: 12px;\n",
              "    }\n",
              "\n",
              "    .colab-df-convert {\n",
              "      background-color: #E8F0FE;\n",
              "      border: none;\n",
              "      border-radius: 50%;\n",
              "      cursor: pointer;\n",
              "      display: none;\n",
              "      fill: #1967D2;\n",
              "      height: 32px;\n",
              "      padding: 0 0 0 0;\n",
              "      width: 32px;\n",
              "    }\n",
              "\n",
              "    .colab-df-convert:hover {\n",
              "      background-color: #E2EBFA;\n",
              "      box-shadow: 0px 1px 2px rgba(60, 64, 67, 0.3), 0px 1px 3px 1px rgba(60, 64, 67, 0.15);\n",
              "      fill: #174EA6;\n",
              "    }\n",
              "\n",
              "    .colab-df-buttons div {\n",
              "      margin-bottom: 4px;\n",
              "    }\n",
              "\n",
              "    [theme=dark] .colab-df-convert {\n",
              "      background-color: #3B4455;\n",
              "      fill: #D2E3FC;\n",
              "    }\n",
              "\n",
              "    [theme=dark] .colab-df-convert:hover {\n",
              "      background-color: #434B5C;\n",
              "      box-shadow: 0px 1px 3px 1px rgba(0, 0, 0, 0.15);\n",
              "      filter: drop-shadow(0px 1px 2px rgba(0, 0, 0, 0.3));\n",
              "      fill: #FFFFFF;\n",
              "    }\n",
              "  </style>\n",
              "\n",
              "    <script>\n",
              "      const buttonEl =\n",
              "        document.querySelector('#df-a8372690-1794-4aba-af64-d7f88893c352 button.colab-df-convert');\n",
              "      buttonEl.style.display =\n",
              "        google.colab.kernel.accessAllowed ? 'block' : 'none';\n",
              "\n",
              "      async function convertToInteractive(key) {\n",
              "        const element = document.querySelector('#df-a8372690-1794-4aba-af64-d7f88893c352');\n",
              "        const dataTable =\n",
              "          await google.colab.kernel.invokeFunction('convertToInteractive',\n",
              "                                                    [key], {});\n",
              "        if (!dataTable) return;\n",
              "\n",
              "        const docLinkHtml = 'Like what you see? Visit the ' +\n",
              "          '<a target=\"_blank\" href=https://colab.research.google.com/notebooks/data_table.ipynb>data table notebook</a>'\n",
              "          + ' to learn more about interactive tables.';\n",
              "        element.innerHTML = '';\n",
              "        dataTable['output_type'] = 'display_data';\n",
              "        await google.colab.output.renderOutput(dataTable, element);\n",
              "        const docLink = document.createElement('div');\n",
              "        docLink.innerHTML = docLinkHtml;\n",
              "        element.appendChild(docLink);\n",
              "      }\n",
              "    </script>\n",
              "  </div>\n",
              "\n",
              "\n",
              "    <div id=\"df-8c15f13d-b7d4-490e-b4f1-770470631364\">\n",
              "      <button class=\"colab-df-quickchart\" onclick=\"quickchart('df-8c15f13d-b7d4-490e-b4f1-770470631364')\"\n",
              "                title=\"Suggest charts\"\n",
              "                style=\"display:none;\">\n",
              "\n",
              "<svg xmlns=\"http://www.w3.org/2000/svg\" height=\"24px\"viewBox=\"0 0 24 24\"\n",
              "     width=\"24px\">\n",
              "    <g>\n",
              "        <path d=\"M19 3H5c-1.1 0-2 .9-2 2v14c0 1.1.9 2 2 2h14c1.1 0 2-.9 2-2V5c0-1.1-.9-2-2-2zM9 17H7v-7h2v7zm4 0h-2V7h2v10zm4 0h-2v-4h2v4z\"/>\n",
              "    </g>\n",
              "</svg>\n",
              "      </button>\n",
              "\n",
              "<style>\n",
              "  .colab-df-quickchart {\n",
              "      --bg-color: #E8F0FE;\n",
              "      --fill-color: #1967D2;\n",
              "      --hover-bg-color: #E2EBFA;\n",
              "      --hover-fill-color: #174EA6;\n",
              "      --disabled-fill-color: #AAA;\n",
              "      --disabled-bg-color: #DDD;\n",
              "  }\n",
              "\n",
              "  [theme=dark] .colab-df-quickchart {\n",
              "      --bg-color: #3B4455;\n",
              "      --fill-color: #D2E3FC;\n",
              "      --hover-bg-color: #434B5C;\n",
              "      --hover-fill-color: #FFFFFF;\n",
              "      --disabled-bg-color: #3B4455;\n",
              "      --disabled-fill-color: #666;\n",
              "  }\n",
              "\n",
              "  .colab-df-quickchart {\n",
              "    background-color: var(--bg-color);\n",
              "    border: none;\n",
              "    border-radius: 50%;\n",
              "    cursor: pointer;\n",
              "    display: none;\n",
              "    fill: var(--fill-color);\n",
              "    height: 32px;\n",
              "    padding: 0;\n",
              "    width: 32px;\n",
              "  }\n",
              "\n",
              "  .colab-df-quickchart:hover {\n",
              "    background-color: var(--hover-bg-color);\n",
              "    box-shadow: 0 1px 2px rgba(60, 64, 67, 0.3), 0 1px 3px 1px rgba(60, 64, 67, 0.15);\n",
              "    fill: var(--button-hover-fill-color);\n",
              "  }\n",
              "\n",
              "  .colab-df-quickchart-complete:disabled,\n",
              "  .colab-df-quickchart-complete:disabled:hover {\n",
              "    background-color: var(--disabled-bg-color);\n",
              "    fill: var(--disabled-fill-color);\n",
              "    box-shadow: none;\n",
              "  }\n",
              "\n",
              "  .colab-df-spinner {\n",
              "    border: 2px solid var(--fill-color);\n",
              "    border-color: transparent;\n",
              "    border-bottom-color: var(--fill-color);\n",
              "    animation:\n",
              "      spin 1s steps(1) infinite;\n",
              "  }\n",
              "\n",
              "  @keyframes spin {\n",
              "    0% {\n",
              "      border-color: transparent;\n",
              "      border-bottom-color: var(--fill-color);\n",
              "      border-left-color: var(--fill-color);\n",
              "    }\n",
              "    20% {\n",
              "      border-color: transparent;\n",
              "      border-left-color: var(--fill-color);\n",
              "      border-top-color: var(--fill-color);\n",
              "    }\n",
              "    30% {\n",
              "      border-color: transparent;\n",
              "      border-left-color: var(--fill-color);\n",
              "      border-top-color: var(--fill-color);\n",
              "      border-right-color: var(--fill-color);\n",
              "    }\n",
              "    40% {\n",
              "      border-color: transparent;\n",
              "      border-right-color: var(--fill-color);\n",
              "      border-top-color: var(--fill-color);\n",
              "    }\n",
              "    60% {\n",
              "      border-color: transparent;\n",
              "      border-right-color: var(--fill-color);\n",
              "    }\n",
              "    80% {\n",
              "      border-color: transparent;\n",
              "      border-right-color: var(--fill-color);\n",
              "      border-bottom-color: var(--fill-color);\n",
              "    }\n",
              "    90% {\n",
              "      border-color: transparent;\n",
              "      border-bottom-color: var(--fill-color);\n",
              "    }\n",
              "  }\n",
              "</style>\n",
              "\n",
              "      <script>\n",
              "        async function quickchart(key) {\n",
              "          const quickchartButtonEl =\n",
              "            document.querySelector('#' + key + ' button');\n",
              "          quickchartButtonEl.disabled = true;  // To prevent multiple clicks.\n",
              "          quickchartButtonEl.classList.add('colab-df-spinner');\n",
              "          try {\n",
              "            const charts = await google.colab.kernel.invokeFunction(\n",
              "                'suggestCharts', [key], {});\n",
              "          } catch (error) {\n",
              "            console.error('Error during call to suggestCharts:', error);\n",
              "          }\n",
              "          quickchartButtonEl.classList.remove('colab-df-spinner');\n",
              "          quickchartButtonEl.classList.add('colab-df-quickchart-complete');\n",
              "        }\n",
              "        (() => {\n",
              "          let quickchartButtonEl =\n",
              "            document.querySelector('#df-8c15f13d-b7d4-490e-b4f1-770470631364 button');\n",
              "          quickchartButtonEl.style.display =\n",
              "            google.colab.kernel.accessAllowed ? 'block' : 'none';\n",
              "        })();\n",
              "      </script>\n",
              "    </div>\n",
              "\n",
              "  <div id=\"id_3a3447b7-041a-464a-83e0-b339edafdd81\">\n",
              "    <style>\n",
              "      .colab-df-generate {\n",
              "        background-color: #E8F0FE;\n",
              "        border: none;\n",
              "        border-radius: 50%;\n",
              "        cursor: pointer;\n",
              "        display: none;\n",
              "        fill: #1967D2;\n",
              "        height: 32px;\n",
              "        padding: 0 0 0 0;\n",
              "        width: 32px;\n",
              "      }\n",
              "\n",
              "      .colab-df-generate:hover {\n",
              "        background-color: #E2EBFA;\n",
              "        box-shadow: 0px 1px 2px rgba(60, 64, 67, 0.3), 0px 1px 3px 1px rgba(60, 64, 67, 0.15);\n",
              "        fill: #174EA6;\n",
              "      }\n",
              "\n",
              "      [theme=dark] .colab-df-generate {\n",
              "        background-color: #3B4455;\n",
              "        fill: #D2E3FC;\n",
              "      }\n",
              "\n",
              "      [theme=dark] .colab-df-generate:hover {\n",
              "        background-color: #434B5C;\n",
              "        box-shadow: 0px 1px 3px 1px rgba(0, 0, 0, 0.15);\n",
              "        filter: drop-shadow(0px 1px 2px rgba(0, 0, 0, 0.3));\n",
              "        fill: #FFFFFF;\n",
              "      }\n",
              "    </style>\n",
              "    <button class=\"colab-df-generate\" onclick=\"generateWithVariable('df')\"\n",
              "            title=\"Generate code using this dataframe.\"\n",
              "            style=\"display:none;\">\n",
              "\n",
              "  <svg xmlns=\"http://www.w3.org/2000/svg\" height=\"24px\"viewBox=\"0 0 24 24\"\n",
              "       width=\"24px\">\n",
              "    <path d=\"M7,19H8.4L18.45,9,17,7.55,7,17.6ZM5,21V16.75L18.45,3.32a2,2,0,0,1,2.83,0l1.4,1.43a1.91,1.91,0,0,1,.58,1.4,1.91,1.91,0,0,1-.58,1.4L9.25,21ZM18.45,9,17,7.55Zm-12,3A5.31,5.31,0,0,0,4.9,8.1,5.31,5.31,0,0,0,1,6.5,5.31,5.31,0,0,0,4.9,4.9,5.31,5.31,0,0,0,6.5,1,5.31,5.31,0,0,0,8.1,4.9,5.31,5.31,0,0,0,12,6.5,5.46,5.46,0,0,0,6.5,12Z\"/>\n",
              "  </svg>\n",
              "    </button>\n",
              "    <script>\n",
              "      (() => {\n",
              "      const buttonEl =\n",
              "        document.querySelector('#id_3a3447b7-041a-464a-83e0-b339edafdd81 button.colab-df-generate');\n",
              "      buttonEl.style.display =\n",
              "        google.colab.kernel.accessAllowed ? 'block' : 'none';\n",
              "\n",
              "      buttonEl.onclick = () => {\n",
              "        google.colab.notebook.generateWithVariable('df');\n",
              "      }\n",
              "      })();\n",
              "    </script>\n",
              "  </div>\n",
              "\n",
              "    </div>\n",
              "  </div>\n"
            ],
            "text/plain": [
              "     Year  Month    MEI     CO2      CH4      N2O   CFC-11   CFC-12  \\\n",
              "0    1983      5  2.556  345.96  1638.59  303.677  191.324  350.113   \n",
              "1    1983      6  2.167  345.52  1633.71  303.746  192.057  351.848   \n",
              "2    1983      7  1.741  344.15  1633.22  303.795  192.818  353.725   \n",
              "3    1983      8  1.130  342.25  1631.35  303.839  193.602  355.633   \n",
              "4    1983      9  0.428  340.17  1648.40  303.901  194.392  357.465   \n",
              "..    ...    ...    ...     ...      ...      ...      ...      ...   \n",
              "303  2008      8 -0.266  384.15  1779.88  321.405  244.200  535.072   \n",
              "304  2008      9 -0.643  383.09  1795.08  321.529  244.083  535.048   \n",
              "305  2008     10 -0.780  382.99  1814.18  321.796  244.080  534.927   \n",
              "306  2008     11 -0.621  384.13  1812.37  322.013  244.225  534.906   \n",
              "307  2008     12 -0.666  385.56  1812.88  322.182  244.204  535.005   \n",
              "\n",
              "           TSI  Aerosols   Temp  \n",
              "0    1366.1024    0.0863  0.109  \n",
              "1    1366.1208    0.0794  0.118  \n",
              "2    1366.2850    0.0731  0.137  \n",
              "3    1366.4202    0.0673  0.176  \n",
              "4    1366.2335    0.0619  0.149  \n",
              "..         ...       ...    ...  \n",
              "303  1365.6570    0.0036  0.407  \n",
              "304  1365.6647    0.0043  0.378  \n",
              "305  1365.6759    0.0046  0.440  \n",
              "306  1365.7065    0.0048  0.394  \n",
              "307  1365.6926    0.0046  0.330  \n",
              "\n",
              "[308 rows x 11 columns]"
            ]
          },
          "execution_count": 6,
          "metadata": {},
          "output_type": "execute_result"
        }
      ],
      "source": [
        "df = pd.read_csv('https://raw.githubusercontent.com/Aguado4/Masters-in-Applied-AI/refs/heads/main/Data%20Analysis/data/climate_change.csv')\n",
        "df"
      ]
    },
    {
      "cell_type": "markdown",
      "id": "c4df053f",
      "metadata": {
        "id": "c4df053f"
      },
      "source": [
        "# 2. Análisis univariado para la variable **Temp**"
      ]
    },
    {
      "cell_type": "markdown",
      "id": "8e0b5770",
      "metadata": {
        "id": "8e0b5770"
      },
      "source": [
        "## Introducción al problema\n",
        "\n",
        "El cambio climático es uno de los mayores retos globales de este siglo. Numerosos estudios han documentado que la **temperatura media global** ha aumentado de manera sostenida durante las últimas décadas, generando consecuencias como el **aumento del nivel del mar**, la **pérdida de cobertura glaciar** y una **mayor frecuencia de fenómenos meteorológicos extremos**. Comprender cómo evoluciona la temperatura global y cuáles son los factores que influyen en ella resulta clave para anticipar riesgos y diseñar políticas ambientales eficaces.\n",
        "\n",
        "El dataset *climate_change.csv* contiene registros mensuales desde **1983 hasta 2008** y busca analizar la relación entre la temperatura global y diversos factores atmosféricos y solares. Las variables incluidas son:\n",
        "\n",
        "- **Year**: año de la observación.\n",
        "- **Month**: mes de la observación.\n",
        "- **Temp**: diferencia en grados Celsius entre la temperatura media global del periodo y un valor de referencia histórico.\n",
        "- **CO2**: concentración de dióxido de carbono (en ppmv).\n",
        "- **CH4**: concentración de metano (en ppmv).\n",
        "- **N2O**: concentración de óxido nitroso (en ppmv).\n",
        "- **CFC-11 y CFC-12**: concentraciones de clorofluorocarbonos (en ppbv).\n",
        "- **TSI**: irradiancia solar total (W/m²).\n",
        "- **Aerosols**: profundidad óptica media de aerosoles estratosféricos, asociada a erupciones volcánicas.\n",
        "- **MEI**: índice multivariado ENSO (El Niño/Oscilación del Sur), indicador de fenómenos oceánicos que impactan el clima global.\n",
        "\n",
        "## Variable seleccionada: Temp\n",
        "\n",
        "Para este análisis se selecciona la variable **Temp**, que es importante ya que mide el cambio en la temperatura global respecto a un promedio de referencia. Esta variable es fundamental porque:\n",
        "\n",
        "- Refleja directamente el **efecto del cambio climático** a lo largo del tiempo.\n",
        "- Permite detectar **tendencias de calentamiento global**.\n",
        "- Constituye la base para analizar el impacto de otras variables explicativas, como los gases de efecto invernadero, la irradiación solar o la actividad volcánica.\n",
        "\n",
        "Esta variable puede influir en la toma de decisiones al ser capaces de analizar la tendencia en el tiempo y que acciones se pueden tomar para corregirla. Para un próximo análisis bivariado podemos ver también que otras variables influyen y como manejar mejor este problema."
      ]
    },
    {
      "cell_type": "code",
      "execution_count": 7,
      "id": "bd5f1caf",
      "metadata": {
        "colab": {
          "base_uri": "https://localhost:8080/",
          "height": 300
        },
        "id": "bd5f1caf",
        "outputId": "ec8cd52b-e522-48ac-dd82-7577e20c0a0e"
      },
      "outputs": [
        {
          "data": {
            "application/vnd.google.colaboratory.intrinsic+json": {
              "summary": "{\n  \"name\": \"df\",\n  \"rows\": 8,\n  \"fields\": [\n    {\n      \"column\": \"Year\",\n      \"properties\": {\n        \"dtype\": \"number\",\n        \"std\": 854.5991842475545,\n        \"min\": 7.423197006743263,\n        \"max\": 2008.0,\n        \"num_unique_values\": 8,\n        \"samples\": [\n          1995.6623376623377,\n          1996.0,\n          308.0\n        ],\n        \"semantic_type\": \"\",\n        \"description\": \"\"\n      }\n    },\n    {\n      \"column\": \"Month\",\n      \"properties\": {\n        \"dtype\": \"number\",\n        \"std\": 106.73122787543659,\n        \"min\": 1.0,\n        \"max\": 308.0,\n        \"num_unique_values\": 8,\n        \"samples\": [\n          6.5519480519480515,\n          7.0,\n          308.0\n        ],\n        \"semantic_type\": \"\",\n        \"description\": \"\"\n      }\n    },\n    {\n      \"column\": \"MEI\",\n      \"properties\": {\n        \"dtype\": \"number\",\n        \"std\": 108.73826307024467,\n        \"min\": -1.635,\n        \"max\": 308.0,\n        \"num_unique_values\": 8,\n        \"samples\": [\n          0.27555519480519486,\n          0.2375,\n          308.0\n        ],\n        \"semantic_type\": \"\",\n        \"description\": \"\"\n      }\n    },\n    {\n      \"column\": \"CO2\",\n      \"properties\": {\n        \"dtype\": \"number\",\n        \"std\": 123.53612874202942,\n        \"min\": 12.647124861976312,\n        \"max\": 388.5,\n        \"num_unique_values\": 8,\n        \"samples\": [\n          363.2267532467532,\n          361.735,\n          308.0\n        ],\n        \"semantic_type\": \"\",\n        \"description\": \"\"\n      }\n    },\n    {\n      \"column\": \"CH4\",\n      \"properties\": {\n        \"dtype\": \"number\",\n        \"std\": 730.9942722469053,\n        \"min\": 46.05167823751579,\n        \"max\": 1814.18,\n        \"num_unique_values\": 8,\n        \"samples\": [\n          1749.824512987013,\n          1764.04,\n          308.0\n        ],\n        \"semantic_type\": \"\",\n        \"description\": \"\"\n      }\n    },\n    {\n      \"column\": \"N2O\",\n      \"properties\": {\n        \"dtype\": \"number\",\n        \"std\": 108.55395595005457,\n        \"min\": 5.225130729644338,\n        \"max\": 322.182,\n        \"num_unique_values\": 8,\n        \"samples\": [\n          312.3918344155844,\n          311.507,\n          308.0\n        ],\n        \"semantic_type\": \"\",\n        \"description\": \"\"\n      }\n    },\n    {\n      \"column\": \"CFC-11\",\n      \"properties\": {\n        \"dtype\": \"number\",\n        \"std\": 89.5602533304537,\n        \"min\": 20.231783175034032,\n        \"max\": 308.0,\n        \"num_unique_values\": 8,\n        \"samples\": [\n          251.97306818181815,\n          258.344,\n          308.0\n        ],\n        \"semantic_type\": \"\",\n        \"description\": \"\"\n      }\n    },\n    {\n      \"column\": \"CFC-12\",\n      \"properties\": {\n        \"dtype\": \"number\",\n        \"std\": 168.38712932993568,\n        \"min\": 57.826898833994946,\n        \"max\": 543.813,\n        \"num_unique_values\": 8,\n        \"samples\": [\n          497.5247824675325,\n          528.356,\n          308.0\n        ],\n        \"semantic_type\": \"\",\n        \"description\": \"\"\n      }\n    },\n    {\n      \"column\": \"TSI\",\n      \"properties\": {\n        \"dtype\": \"number\",\n        \"std\": 567.013538145111,\n        \"min\": 0.3996095493561554,\n        \"max\": 1367.3162,\n        \"num_unique_values\": 8,\n        \"samples\": [\n          1366.070759090909,\n          1365.9809,\n          308.0\n        ],\n        \"semantic_type\": \"\",\n        \"description\": \"\"\n      }\n    },\n    {\n      \"column\": \"Aerosols\",\n      \"properties\": {\n        \"dtype\": \"number\",\n        \"std\": 108.88345193984257,\n        \"min\": 0.0016,\n        \"max\": 308.0,\n        \"num_unique_values\": 8,\n        \"samples\": [\n          0.016657142857142863,\n          0.00575,\n          308.0\n        ],\n        \"semantic_type\": \"\",\n        \"description\": \"\"\n      }\n    },\n    {\n      \"column\": \"Temp\",\n      \"properties\": {\n        \"dtype\": \"number\",\n        \"std\": 108.81047586978714,\n        \"min\": -0.282,\n        \"max\": 308.0,\n        \"num_unique_values\": 8,\n        \"samples\": [\n          0.25677597402597396,\n          0.248,\n          308.0\n        ],\n        \"semantic_type\": \"\",\n        \"description\": \"\"\n      }\n    }\n  ]\n}",
              "type": "dataframe"
            },
            "text/html": [
              "\n",
              "  <div id=\"df-ba2e6b3f-ef4a-4a5e-a3dc-2e621f921ad2\" class=\"colab-df-container\">\n",
              "    <div>\n",
              "<style scoped>\n",
              "    .dataframe tbody tr th:only-of-type {\n",
              "        vertical-align: middle;\n",
              "    }\n",
              "\n",
              "    .dataframe tbody tr th {\n",
              "        vertical-align: top;\n",
              "    }\n",
              "\n",
              "    .dataframe thead th {\n",
              "        text-align: right;\n",
              "    }\n",
              "</style>\n",
              "<table border=\"1\" class=\"dataframe\">\n",
              "  <thead>\n",
              "    <tr style=\"text-align: right;\">\n",
              "      <th></th>\n",
              "      <th>Year</th>\n",
              "      <th>Month</th>\n",
              "      <th>MEI</th>\n",
              "      <th>CO2</th>\n",
              "      <th>CH4</th>\n",
              "      <th>N2O</th>\n",
              "      <th>CFC-11</th>\n",
              "      <th>CFC-12</th>\n",
              "      <th>TSI</th>\n",
              "      <th>Aerosols</th>\n",
              "      <th>Temp</th>\n",
              "    </tr>\n",
              "  </thead>\n",
              "  <tbody>\n",
              "    <tr>\n",
              "      <th>count</th>\n",
              "      <td>308.000000</td>\n",
              "      <td>308.000000</td>\n",
              "      <td>308.000000</td>\n",
              "      <td>308.000000</td>\n",
              "      <td>308.000000</td>\n",
              "      <td>308.000000</td>\n",
              "      <td>308.000000</td>\n",
              "      <td>308.000000</td>\n",
              "      <td>308.000000</td>\n",
              "      <td>308.000000</td>\n",
              "      <td>308.000000</td>\n",
              "    </tr>\n",
              "    <tr>\n",
              "      <th>mean</th>\n",
              "      <td>1995.662338</td>\n",
              "      <td>6.551948</td>\n",
              "      <td>0.275555</td>\n",
              "      <td>363.226753</td>\n",
              "      <td>1749.824513</td>\n",
              "      <td>312.391834</td>\n",
              "      <td>251.973068</td>\n",
              "      <td>497.524782</td>\n",
              "      <td>1366.070759</td>\n",
              "      <td>0.016657</td>\n",
              "      <td>0.256776</td>\n",
              "    </tr>\n",
              "    <tr>\n",
              "      <th>std</th>\n",
              "      <td>7.423197</td>\n",
              "      <td>3.447214</td>\n",
              "      <td>0.937918</td>\n",
              "      <td>12.647125</td>\n",
              "      <td>46.051678</td>\n",
              "      <td>5.225131</td>\n",
              "      <td>20.231783</td>\n",
              "      <td>57.826899</td>\n",
              "      <td>0.399610</td>\n",
              "      <td>0.029050</td>\n",
              "      <td>0.179090</td>\n",
              "    </tr>\n",
              "    <tr>\n",
              "      <th>min</th>\n",
              "      <td>1983.000000</td>\n",
              "      <td>1.000000</td>\n",
              "      <td>-1.635000</td>\n",
              "      <td>340.170000</td>\n",
              "      <td>1629.890000</td>\n",
              "      <td>303.677000</td>\n",
              "      <td>191.324000</td>\n",
              "      <td>350.113000</td>\n",
              "      <td>1365.426100</td>\n",
              "      <td>0.001600</td>\n",
              "      <td>-0.282000</td>\n",
              "    </tr>\n",
              "    <tr>\n",
              "      <th>25%</th>\n",
              "      <td>1989.000000</td>\n",
              "      <td>4.000000</td>\n",
              "      <td>-0.398750</td>\n",
              "      <td>353.020000</td>\n",
              "      <td>1722.182500</td>\n",
              "      <td>308.111500</td>\n",
              "      <td>246.295500</td>\n",
              "      <td>472.410750</td>\n",
              "      <td>1365.717050</td>\n",
              "      <td>0.002800</td>\n",
              "      <td>0.121750</td>\n",
              "    </tr>\n",
              "    <tr>\n",
              "      <th>50%</th>\n",
              "      <td>1996.000000</td>\n",
              "      <td>7.000000</td>\n",
              "      <td>0.237500</td>\n",
              "      <td>361.735000</td>\n",
              "      <td>1764.040000</td>\n",
              "      <td>311.507000</td>\n",
              "      <td>258.344000</td>\n",
              "      <td>528.356000</td>\n",
              "      <td>1365.980900</td>\n",
              "      <td>0.005750</td>\n",
              "      <td>0.248000</td>\n",
              "    </tr>\n",
              "    <tr>\n",
              "      <th>75%</th>\n",
              "      <td>2002.000000</td>\n",
              "      <td>10.000000</td>\n",
              "      <td>0.830500</td>\n",
              "      <td>373.455000</td>\n",
              "      <td>1786.885000</td>\n",
              "      <td>316.979000</td>\n",
              "      <td>267.031000</td>\n",
              "      <td>540.524250</td>\n",
              "      <td>1366.363250</td>\n",
              "      <td>0.012600</td>\n",
              "      <td>0.407250</td>\n",
              "    </tr>\n",
              "    <tr>\n",
              "      <th>max</th>\n",
              "      <td>2008.000000</td>\n",
              "      <td>12.000000</td>\n",
              "      <td>3.001000</td>\n",
              "      <td>388.500000</td>\n",
              "      <td>1814.180000</td>\n",
              "      <td>322.182000</td>\n",
              "      <td>271.494000</td>\n",
              "      <td>543.813000</td>\n",
              "      <td>1367.316200</td>\n",
              "      <td>0.149400</td>\n",
              "      <td>0.739000</td>\n",
              "    </tr>\n",
              "  </tbody>\n",
              "</table>\n",
              "</div>\n",
              "    <div class=\"colab-df-buttons\">\n",
              "\n",
              "  <div class=\"colab-df-container\">\n",
              "    <button class=\"colab-df-convert\" onclick=\"convertToInteractive('df-ba2e6b3f-ef4a-4a5e-a3dc-2e621f921ad2')\"\n",
              "            title=\"Convert this dataframe to an interactive table.\"\n",
              "            style=\"display:none;\">\n",
              "\n",
              "  <svg xmlns=\"http://www.w3.org/2000/svg\" height=\"24px\" viewBox=\"0 -960 960 960\">\n",
              "    <path d=\"M120-120v-720h720v720H120Zm60-500h600v-160H180v160Zm220 220h160v-160H400v160Zm0 220h160v-160H400v160ZM180-400h160v-160H180v160Zm440 0h160v-160H620v160ZM180-180h160v-160H180v160Zm440 0h160v-160H620v160Z\"/>\n",
              "  </svg>\n",
              "    </button>\n",
              "\n",
              "  <style>\n",
              "    .colab-df-container {\n",
              "      display:flex;\n",
              "      gap: 12px;\n",
              "    }\n",
              "\n",
              "    .colab-df-convert {\n",
              "      background-color: #E8F0FE;\n",
              "      border: none;\n",
              "      border-radius: 50%;\n",
              "      cursor: pointer;\n",
              "      display: none;\n",
              "      fill: #1967D2;\n",
              "      height: 32px;\n",
              "      padding: 0 0 0 0;\n",
              "      width: 32px;\n",
              "    }\n",
              "\n",
              "    .colab-df-convert:hover {\n",
              "      background-color: #E2EBFA;\n",
              "      box-shadow: 0px 1px 2px rgba(60, 64, 67, 0.3), 0px 1px 3px 1px rgba(60, 64, 67, 0.15);\n",
              "      fill: #174EA6;\n",
              "    }\n",
              "\n",
              "    .colab-df-buttons div {\n",
              "      margin-bottom: 4px;\n",
              "    }\n",
              "\n",
              "    [theme=dark] .colab-df-convert {\n",
              "      background-color: #3B4455;\n",
              "      fill: #D2E3FC;\n",
              "    }\n",
              "\n",
              "    [theme=dark] .colab-df-convert:hover {\n",
              "      background-color: #434B5C;\n",
              "      box-shadow: 0px 1px 3px 1px rgba(0, 0, 0, 0.15);\n",
              "      filter: drop-shadow(0px 1px 2px rgba(0, 0, 0, 0.3));\n",
              "      fill: #FFFFFF;\n",
              "    }\n",
              "  </style>\n",
              "\n",
              "    <script>\n",
              "      const buttonEl =\n",
              "        document.querySelector('#df-ba2e6b3f-ef4a-4a5e-a3dc-2e621f921ad2 button.colab-df-convert');\n",
              "      buttonEl.style.display =\n",
              "        google.colab.kernel.accessAllowed ? 'block' : 'none';\n",
              "\n",
              "      async function convertToInteractive(key) {\n",
              "        const element = document.querySelector('#df-ba2e6b3f-ef4a-4a5e-a3dc-2e621f921ad2');\n",
              "        const dataTable =\n",
              "          await google.colab.kernel.invokeFunction('convertToInteractive',\n",
              "                                                    [key], {});\n",
              "        if (!dataTable) return;\n",
              "\n",
              "        const docLinkHtml = 'Like what you see? Visit the ' +\n",
              "          '<a target=\"_blank\" href=https://colab.research.google.com/notebooks/data_table.ipynb>data table notebook</a>'\n",
              "          + ' to learn more about interactive tables.';\n",
              "        element.innerHTML = '';\n",
              "        dataTable['output_type'] = 'display_data';\n",
              "        await google.colab.output.renderOutput(dataTable, element);\n",
              "        const docLink = document.createElement('div');\n",
              "        docLink.innerHTML = docLinkHtml;\n",
              "        element.appendChild(docLink);\n",
              "      }\n",
              "    </script>\n",
              "  </div>\n",
              "\n",
              "\n",
              "    <div id=\"df-70c36463-8ef9-4a86-aaf1-e281667b6c04\">\n",
              "      <button class=\"colab-df-quickchart\" onclick=\"quickchart('df-70c36463-8ef9-4a86-aaf1-e281667b6c04')\"\n",
              "                title=\"Suggest charts\"\n",
              "                style=\"display:none;\">\n",
              "\n",
              "<svg xmlns=\"http://www.w3.org/2000/svg\" height=\"24px\"viewBox=\"0 0 24 24\"\n",
              "     width=\"24px\">\n",
              "    <g>\n",
              "        <path d=\"M19 3H5c-1.1 0-2 .9-2 2v14c0 1.1.9 2 2 2h14c1.1 0 2-.9 2-2V5c0-1.1-.9-2-2-2zM9 17H7v-7h2v7zm4 0h-2V7h2v10zm4 0h-2v-4h2v4z\"/>\n",
              "    </g>\n",
              "</svg>\n",
              "      </button>\n",
              "\n",
              "<style>\n",
              "  .colab-df-quickchart {\n",
              "      --bg-color: #E8F0FE;\n",
              "      --fill-color: #1967D2;\n",
              "      --hover-bg-color: #E2EBFA;\n",
              "      --hover-fill-color: #174EA6;\n",
              "      --disabled-fill-color: #AAA;\n",
              "      --disabled-bg-color: #DDD;\n",
              "  }\n",
              "\n",
              "  [theme=dark] .colab-df-quickchart {\n",
              "      --bg-color: #3B4455;\n",
              "      --fill-color: #D2E3FC;\n",
              "      --hover-bg-color: #434B5C;\n",
              "      --hover-fill-color: #FFFFFF;\n",
              "      --disabled-bg-color: #3B4455;\n",
              "      --disabled-fill-color: #666;\n",
              "  }\n",
              "\n",
              "  .colab-df-quickchart {\n",
              "    background-color: var(--bg-color);\n",
              "    border: none;\n",
              "    border-radius: 50%;\n",
              "    cursor: pointer;\n",
              "    display: none;\n",
              "    fill: var(--fill-color);\n",
              "    height: 32px;\n",
              "    padding: 0;\n",
              "    width: 32px;\n",
              "  }\n",
              "\n",
              "  .colab-df-quickchart:hover {\n",
              "    background-color: var(--hover-bg-color);\n",
              "    box-shadow: 0 1px 2px rgba(60, 64, 67, 0.3), 0 1px 3px 1px rgba(60, 64, 67, 0.15);\n",
              "    fill: var(--button-hover-fill-color);\n",
              "  }\n",
              "\n",
              "  .colab-df-quickchart-complete:disabled,\n",
              "  .colab-df-quickchart-complete:disabled:hover {\n",
              "    background-color: var(--disabled-bg-color);\n",
              "    fill: var(--disabled-fill-color);\n",
              "    box-shadow: none;\n",
              "  }\n",
              "\n",
              "  .colab-df-spinner {\n",
              "    border: 2px solid var(--fill-color);\n",
              "    border-color: transparent;\n",
              "    border-bottom-color: var(--fill-color);\n",
              "    animation:\n",
              "      spin 1s steps(1) infinite;\n",
              "  }\n",
              "\n",
              "  @keyframes spin {\n",
              "    0% {\n",
              "      border-color: transparent;\n",
              "      border-bottom-color: var(--fill-color);\n",
              "      border-left-color: var(--fill-color);\n",
              "    }\n",
              "    20% {\n",
              "      border-color: transparent;\n",
              "      border-left-color: var(--fill-color);\n",
              "      border-top-color: var(--fill-color);\n",
              "    }\n",
              "    30% {\n",
              "      border-color: transparent;\n",
              "      border-left-color: var(--fill-color);\n",
              "      border-top-color: var(--fill-color);\n",
              "      border-right-color: var(--fill-color);\n",
              "    }\n",
              "    40% {\n",
              "      border-color: transparent;\n",
              "      border-right-color: var(--fill-color);\n",
              "      border-top-color: var(--fill-color);\n",
              "    }\n",
              "    60% {\n",
              "      border-color: transparent;\n",
              "      border-right-color: var(--fill-color);\n",
              "    }\n",
              "    80% {\n",
              "      border-color: transparent;\n",
              "      border-right-color: var(--fill-color);\n",
              "      border-bottom-color: var(--fill-color);\n",
              "    }\n",
              "    90% {\n",
              "      border-color: transparent;\n",
              "      border-bottom-color: var(--fill-color);\n",
              "    }\n",
              "  }\n",
              "</style>\n",
              "\n",
              "      <script>\n",
              "        async function quickchart(key) {\n",
              "          const quickchartButtonEl =\n",
              "            document.querySelector('#' + key + ' button');\n",
              "          quickchartButtonEl.disabled = true;  // To prevent multiple clicks.\n",
              "          quickchartButtonEl.classList.add('colab-df-spinner');\n",
              "          try {\n",
              "            const charts = await google.colab.kernel.invokeFunction(\n",
              "                'suggestCharts', [key], {});\n",
              "          } catch (error) {\n",
              "            console.error('Error during call to suggestCharts:', error);\n",
              "          }\n",
              "          quickchartButtonEl.classList.remove('colab-df-spinner');\n",
              "          quickchartButtonEl.classList.add('colab-df-quickchart-complete');\n",
              "        }\n",
              "        (() => {\n",
              "          let quickchartButtonEl =\n",
              "            document.querySelector('#df-70c36463-8ef9-4a86-aaf1-e281667b6c04 button');\n",
              "          quickchartButtonEl.style.display =\n",
              "            google.colab.kernel.accessAllowed ? 'block' : 'none';\n",
              "        })();\n",
              "      </script>\n",
              "    </div>\n",
              "\n",
              "    </div>\n",
              "  </div>\n"
            ],
            "text/plain": [
              "              Year       Month         MEI         CO2          CH4  \\\n",
              "count   308.000000  308.000000  308.000000  308.000000   308.000000   \n",
              "mean   1995.662338    6.551948    0.275555  363.226753  1749.824513   \n",
              "std       7.423197    3.447214    0.937918   12.647125    46.051678   \n",
              "min    1983.000000    1.000000   -1.635000  340.170000  1629.890000   \n",
              "25%    1989.000000    4.000000   -0.398750  353.020000  1722.182500   \n",
              "50%    1996.000000    7.000000    0.237500  361.735000  1764.040000   \n",
              "75%    2002.000000   10.000000    0.830500  373.455000  1786.885000   \n",
              "max    2008.000000   12.000000    3.001000  388.500000  1814.180000   \n",
              "\n",
              "              N2O      CFC-11      CFC-12          TSI    Aerosols        Temp  \n",
              "count  308.000000  308.000000  308.000000   308.000000  308.000000  308.000000  \n",
              "mean   312.391834  251.973068  497.524782  1366.070759    0.016657    0.256776  \n",
              "std      5.225131   20.231783   57.826899     0.399610    0.029050    0.179090  \n",
              "min    303.677000  191.324000  350.113000  1365.426100    0.001600   -0.282000  \n",
              "25%    308.111500  246.295500  472.410750  1365.717050    0.002800    0.121750  \n",
              "50%    311.507000  258.344000  528.356000  1365.980900    0.005750    0.248000  \n",
              "75%    316.979000  267.031000  540.524250  1366.363250    0.012600    0.407250  \n",
              "max    322.182000  271.494000  543.813000  1367.316200    0.149400    0.739000  "
            ]
          },
          "execution_count": 7,
          "metadata": {},
          "output_type": "execute_result"
        }
      ],
      "source": [
        "df.describe()"
      ]
    },
    {
      "cell_type": "markdown",
      "id": "7758d978",
      "metadata": {
        "id": "7758d978"
      },
      "source": [
        "Se observa que la media de la variable *Temp* es positiva, lo que indica que, en promedio, la temperatura global durante el periodo analizado fue **superior al valor de referencia histórico**. En otras palabras, existe un incremento sostenido de la temperatura respecto al promedio base, lo que refleja una clara tendencia de calentamiento global.\n"
      ]
    },
    {
      "cell_type": "code",
      "execution_count": 8,
      "id": "be102297",
      "metadata": {
        "colab": {
          "base_uri": "https://localhost:8080/"
        },
        "id": "be102297",
        "outputId": "1d1e351c-a169-4cf3-eb15-0a619dbfa0b6"
      },
      "outputs": [
        {
          "name": "stdout",
          "output_type": "stream",
          "text": [
            "<class 'pandas.core.frame.DataFrame'>\n",
            "RangeIndex: 308 entries, 0 to 307\n",
            "Data columns (total 11 columns):\n",
            " #   Column    Non-Null Count  Dtype  \n",
            "---  ------    --------------  -----  \n",
            " 0   Year      308 non-null    int64  \n",
            " 1   Month     308 non-null    int64  \n",
            " 2   MEI       308 non-null    float64\n",
            " 3   CO2       308 non-null    float64\n",
            " 4   CH4       308 non-null    float64\n",
            " 5   N2O       308 non-null    float64\n",
            " 6   CFC-11    308 non-null    float64\n",
            " 7   CFC-12    308 non-null    float64\n",
            " 8   TSI       308 non-null    float64\n",
            " 9   Aerosols  308 non-null    float64\n",
            " 10  Temp      308 non-null    float64\n",
            "dtypes: float64(9), int64(2)\n",
            "memory usage: 26.6 KB\n"
          ]
        }
      ],
      "source": [
        "df.info()"
      ]
    },
    {
      "cell_type": "markdown",
      "id": "02ba35d2",
      "metadata": {
        "id": "02ba35d2"
      },
      "source": [
        "## Estadísticas descriptivas"
      ]
    },
    {
      "cell_type": "code",
      "execution_count": 9,
      "id": "96cf5405",
      "metadata": {
        "colab": {
          "base_uri": "https://localhost:8080/"
        },
        "id": "96cf5405",
        "outputId": "95484eac-900e-4c6b-bc8c-aea3e87973dc"
      },
      "outputs": [
        {
          "name": "stdout",
          "output_type": "stream",
          "text": [
            "Media: 0.25677597402597396\n",
            "Mediana: 0.248\n",
            "Moda: 0.266\n",
            "Desviación estándar: 0.17908976824102688\n",
            "\n",
            "Resumen completo:\n",
            " count    308.000000\n",
            "mean       0.256776\n",
            "std        0.179090\n",
            "min       -0.282000\n",
            "25%        0.121750\n",
            "50%        0.248000\n",
            "75%        0.407250\n",
            "max        0.739000\n",
            "Name: Temp, dtype: float64\n",
            "Cantidad de outliers detectados: 0\n"
          ]
        }
      ],
      "source": [
        "# Selección de la variable Temp\n",
        "temp = df[\"Temp\"].dropna()\n",
        "# Estadísticas descriptivas\n",
        "print(\"Media:\", temp.mean())\n",
        "print(\"Mediana:\", temp.median())\n",
        "print(\"Moda:\", temp.mode()[0])\n",
        "print(\"Desviación estándar:\", temp.std())\n",
        "print(\"\\nResumen completo:\\n\", temp.describe())\n",
        "\n",
        "# Identificación de outliers con IQR\n",
        "Q1 = temp.quantile(0.25)\n",
        "Q3 = temp.quantile(0.75)\n",
        "IQR = Q3 - Q1\n",
        "outliers = temp[(temp < Q1 - 1.5*IQR) | (temp > Q3 + 1.5*IQR)]\n",
        "print(\"Cantidad de outliers detectados:\", outliers.count())"
      ]
    },
    {
      "cell_type": "markdown",
      "id": "8a992c5c",
      "metadata": {
        "id": "8a992c5c"
      },
      "source": [
        "## Visualización de la distribución"
      ]
    },
    {
      "cell_type": "code",
      "execution_count": 10,
      "id": "73ec2444",
      "metadata": {
        "colab": {
          "base_uri": "https://localhost:8080/",
          "height": 843
        },
        "id": "73ec2444",
        "outputId": "86a4e77c-0c05-4390-e9a2-4251fef70b13"
      },
      "outputs": [
        {
          "data": {
            "image/png": "[encoded data removed]",
            "text/plain": [
              "<Figure size 800x500 with 1 Axes>"
            ]
          },
          "metadata": {},
          "output_type": "display_data"
        },
        {
          "data": {
            "image/png": "[encoded data removed]",
            "text/plain": [
              "<Figure size 600x400 with 1 Axes>"
            ]
          },
          "metadata": {},
          "output_type": "display_data"
        }
      ],
      "source": [
        "# Histograma con KDE\n",
        "plt.figure(figsize=(8,5))\n",
        "sns.histplot(temp, kde=True, bins=30, color=\"skyblue\")\n",
        "plt.title(\"Distribución de la variable Temp\")\n",
        "plt.xlabel(\"Diferencia de temperatura (°C)\")\n",
        "plt.ylabel(\"Frecuencia\")\n",
        "plt.show()\n",
        "\n",
        "# Boxplot para visualizar outliers\n",
        "plt.figure(figsize=(6,4))\n",
        "sns.boxplot(y=temp, color=\"lightgreen\")\n",
        "plt.title(\"Boxplot de Temp (detección de valores atípicos)\")\n",
        "plt.ylabel(\"Diferencia de temperatura (°C)\")\n",
        "plt.show()\n"
      ]
    },
    {
      "cell_type": "markdown",
      "id": "eb54ae4a",
      "metadata": {
        "id": "eb54ae4a"
      },
      "source": [
        "## Interpretación de resultados\n",
        "\n",
        "Los resultados estadísticos muestran que la **media** de la variable *Temp* es **0.257 °C**, mientras que la **mediana** es **0.248 °C** y la **moda** es **0.266 °C**. La **desviación estándar** es relativamente baja (**0.179 °C**) ,en especial comparado con los extremos, lo que indica que la mayoría de los valores se concentran cerca del promedio.  \n",
        "\n",
        "El histograma revela que la distribución de *Temp* se concentra entre **0.2 °C y ~0.4 °C**, con una ligera asimetría hacia la derecha, lo que refleja un **sesgo positivo**: existen más observaciones con valores por encima de la media que por debajo.  Esto también puede dar pistas del constante y creciente aumento de la temperatura a lo largo de los años.\n",
        "\n",
        "El boxplot confirma que **no se detectaron valores atípicos** mediante el criterio de rango intercuartílico (IQR). Esto significa que los cambios en la temperatura se comportan de manera relativamente estable dentro del rango observado, sin anomalías extremas.  \n",
        "\n",
        "En conjunto, este análisis sugiere que durante el período **1983–2008** la temperatura global presentó una **diferencia positiva sostenida respecto al valor de referencia histórico**, lo que constituye una clara señal de **calentamiento global progresivo**.\n"
      ]
    },
    {
      "cell_type": "markdown",
      "id": "e67477d4",
      "metadata": {
        "id": "e67477d4"
      },
      "source": [
        "## Conclusiones\n",
        "\n",
        "El análisis univariado realizado sobre la variable *Temp* permite confirmar que, en el periodo comprendido entre **1983 y 2008**, la temperatura global presentó un **incremento sostenido respecto al valor de referencia histórico**. La media positiva, junto con la ausencia de valores atípicos significativos y la ligera asimetría hacia la derecha, refuerzan la evidencia de un **proceso de calentamiento progresivo**.\n",
        "\n",
        "No obstante, este tipo de análisis tiene limitaciones. Si bien es fundamental como primer paso para comprender el comportamiento general de la variable, por sí solo **no es suficiente para identificar tendencias temporales ni para explicar la influencia de factores externos**. Para un estudio más profundo es necesario **contrastar la temperatura con otras variables** del conjunto de datos, como el año, las concentraciones de gases de efecto invernadero (CO₂, CH₄, N₂O) o el índice ENSO (MEI), lo que permitiría explorar **relaciones causales y patrones multivariados**.\n",
        "\n",
        "En síntesis, el análisis univariado ofrece una visión clara de la distribución de la temperatura global y confirma su incremento en el periodo observado, pero debe complementarse con análisis multivariados para obtener conclusiones más robustas sobre las **causas y dinámicas del cambio climático**.\n"
      ]
    },
    {
      "cell_type": "markdown",
      "id": "f091b9a4",
      "metadata": {
        "id": "f091b9a4"
      },
      "source": [
        "# 3. Análisis bivariado para las variables **Temp** y CO2"
      ]
    },
    {
      "cell_type": "markdown",
      "id": "8dec6f99",
      "metadata": {
        "id": "8dec6f99"
      },
      "source": [
        "##  Análisis y visualizaciones en Python"
      ]
    },
    {
      "cell_type": "code",
      "execution_count": 11,
      "id": "9d24a44a",
      "metadata": {
        "colab": {
          "base_uri": "https://localhost:8080/",
          "height": 1000
        },
        "id": "9d24a44a",
        "outputId": "37af7b16-5f09-4c61-90bf-07fe2cdd3355"
      },
      "outputs": [
        {
          "name": "stdout",
          "output_type": "stream",
          "text": [
            "Correlación de Pearson entre Temp y CO2: 0.7485046457380213\n"
          ]
        },
        {
          "data": {
            "image/png": "[encoded data removed]",
            "text/plain": [
              "<Figure size 800x600 with 1 Axes>"
            ]
          },
          "metadata": {},
          "output_type": "display_data"
        },
        {
          "data": {
            "image/png": "[encoded data removed]",
            "text/plain": [
              "<Figure size 1000x600 with 2 Axes>"
            ]
          },
          "metadata": {},
          "output_type": "display_data"
        }
      ],
      "source": [
        "# Correlación entre Temp y CO2\n",
        "corr = df[\"Temp\"].corr(df[\"CO2\"])\n",
        "print(\"Correlación de Pearson entre Temp y CO2:\", corr)\n",
        "\n",
        "# Gráfico de dispersión con línea de tendencia\n",
        "plt.figure(figsize=(8,6))\n",
        "sns.regplot(x=\"CO2\", y=\"Temp\", data=df, scatter_kws={\"alpha\":0.6}, line_kws={\"color\":\"red\"})\n",
        "plt.title(\"Relación entre CO2 y Temp\")\n",
        "plt.xlabel(\"Concentración de CO2 (ppmv)\")\n",
        "plt.ylabel(\"Temperatura (°C por encima del promedio histórico)\")\n",
        "plt.show()\n",
        "\n",
        "# Heatmap de correlación entre múltiples variables numéricas\n",
        "plt.figure(figsize=(10,6))\n",
        "sns.heatmap(df[[\"Temp\",\"CO2\",\"CH4\",\"N2O\",\"TSI\",\"Aerosols\"]].corr(), annot=True, cmap=\"coolwarm\")\n",
        "plt.title(\"Matriz de correlación entre variables climáticas\")\n",
        "plt.show()"
      ]
    },
    {
      "cell_type": "markdown",
      "id": "83a2a576",
      "metadata": {
        "id": "83a2a576"
      },
      "source": [
        "El análisis del heatmap de correlación y del diagrama de dispersión evidencia que **CO₂ mantiene una relación positiva fuerte con la variable Temp**. No obstante, la asociación no parece ser estrictamente lineal, especialmente en los valores más altos de CO₂, donde la pendiente del gráfico se atenúa. Para confirmar esta tendencia y evaluar una posible relación monótona no lineal, resulta pertinente calcular también el **coeficiente de correlación de Spearman**.\n"
      ]
    },
    {
      "cell_type": "code",
      "execution_count": 12,
      "id": "68dd2545",
      "metadata": {
        "colab": {
          "base_uri": "https://localhost:8080/"
        },
        "id": "68dd2545",
        "outputId": "285ad598-5c83-4653-bd36-7786b7adeff5"
      },
      "outputs": [
        {
          "name": "stdout",
          "output_type": "stream",
          "text": [
            "Coeficiente de Pearson: 0.7485046457380209\n",
            "Valor p (Pearson): 1.5578804156204734e-56\n",
            "Coeficiente de Spearman: 0.7767509604626791\n",
            "Valor p (Spearman): 2.1144272950582172e-63\n"
          ]
        }
      ],
      "source": [
        "# Correlación de Pearson\n",
        "pearson_corr, p_value_pearson = stats.pearsonr(df[\"CO2\"], df[\"Temp\"])\n",
        "print(\"Coeficiente de Pearson:\", pearson_corr)\n",
        "print(\"Valor p (Pearson):\", p_value_pearson)\n",
        "\n",
        "# Correlación de Spearman (no lineal)\n",
        "spearman_corr, p_value_spearman = stats.spearmanr(df[\"CO2\"], df[\"Temp\"])\n",
        "print(\"Coeficiente de Spearman:\", spearman_corr)\n",
        "print(\"Valor p (Spearman):\", p_value_spearman)"
      ]
    },
    {
      "cell_type": "markdown",
      "id": "b2f09b10",
      "metadata": {
        "id": "b2f09b10"
      },
      "source": [
        "El **coeficiente de Pearson** obtenido fue **0.749** con un valor *p* de **1.55e-56**. Esto indica una **correlación lineal positiva fuerte** entre la concentración de CO₂ y la variable *Temp*, y la significancia estadística es muy alta (p < 0.05), por lo que se descarta que la relación sea producto del azar.\n",
        "\n",
        "El **coeficiente de Spearman** fue **0.777** con un valor *p* de **2.11e-63**, lo cual también refleja una **correlación positiva fuerte**, pero en este caso de tipo **monótona**. Esto confirma que, aunque la relación no sea perfectamente lineal en todos los rangos de CO₂, la temperatura tiende a aumentar consistentemente conforme lo hacen los niveles de CO₂.\n",
        "\n",
        "En conjunto, ambos resultados respaldan la conclusión de que **el incremento de CO₂ está estrechamente asociado con el aumento de la temperatura global** en el período analizado (1983–2008).\n"
      ]
    },
    {
      "cell_type": "code",
      "execution_count": 13,
      "id": "97f142b1",
      "metadata": {
        "colab": {
          "base_uri": "https://localhost:8080/",
          "height": 652
        },
        "id": "97f142b1",
        "outputId": "24338d40-0940-4266-8725-316ff5a775de"
      },
      "outputs": [
        {
          "name": "stderr",
          "output_type": "stream",
          "text": [
            "/tmp/ipython-input-1627820669.py:5: FutureWarning: \n",
            "\n",
            "Passing `palette` without assigning `hue` is deprecated and will be removed in v0.14.0. Assign the `x` variable to `hue` and set `legend=False` for the same effect.\n",
            "\n",
            "  sns.boxplot(x=\"CO2_categoria\", y=\"Temp\", data=df, palette=\"Set2\")\n"
          ]
        },
        {
          "data": {
            "image/png": "[encoded data removed]",
            "text/plain": [
              "<Figure size 800x600 with 1 Axes>"
            ]
          },
          "metadata": {},
          "output_type": "display_data"
        }
      ],
      "source": [
        "# Crear categorías de CO2 por cuartiles\n",
        "df[\"CO2_categoria\"] = pd.qcut(df[\"CO2\"], q=4, labels=[\"Bajo\",\"Medio-Bajo\",\"Medio-Alto\",\"Alto\"])\n",
        "\n",
        "plt.figure(figsize=(8,6))\n",
        "sns.boxplot(x=\"CO2_categoria\", y=\"Temp\", data=df, palette=\"Set2\")\n",
        "plt.title(\"Distribución de la temperatura según niveles de CO2\")\n",
        "plt.xlabel(\"Nivel de CO2 (cuartiles)\")\n",
        "plt.ylabel(\"Temperatura (°C)\")\n",
        "plt.show()"
      ]
    },
    {
      "cell_type": "markdown",
      "id": "86dba588",
      "metadata": {
        "id": "86dba588"
      },
      "source": [
        "El **boxplot de temperatura según niveles de CO₂** muestra un desplazamiento progresivo de la mediana hacia valores más altos conforme aumentan las concentraciones de CO₂. En el grupo **“Bajo”**, la mediana se ubica cerca de 0 °C, mientras que en el grupo **“Alto”** supera los 0.4 °C. Además, la dispersión de valores es mayor en las categorías intermedias, lo que indica una mayor variabilidad de la temperatura en estos rangos. La presencia de algunos outliers refleja episodios puntuales de temperaturas extremas, pero no modifica la tendencia general."
      ]
    },
    {
      "cell_type": "code",
      "execution_count": 14,
      "id": "0b4b5dfa",
      "metadata": {
        "colab": {
          "base_uri": "https://localhost:8080/",
          "height": 739
        },
        "id": "0b4b5dfa",
        "outputId": "34e5b3a4-88ce-4dc9-bd99-5f4a57903fa9"
      },
      "outputs": [
        {
          "name": "stderr",
          "output_type": "stream",
          "text": [
            "/tmp/ipython-input-2535798005.py:2: FutureWarning: \n",
            "\n",
            "The `ci` parameter is deprecated. Use `errorbar=None` for the same effect.\n",
            "\n",
            "  sns.barplot(x=\"CO2_categoria\", y=\"Temp\", data=df, estimator=np.mean, ci=None, palette=\"muted\")\n",
            "/tmp/ipython-input-2535798005.py:2: FutureWarning: \n",
            "\n",
            "Passing `palette` without assigning `hue` is deprecated and will be removed in v0.14.0. Assign the `x` variable to `hue` and set `legend=False` for the same effect.\n",
            "\n",
            "  sns.barplot(x=\"CO2_categoria\", y=\"Temp\", data=df, estimator=np.mean, ci=None, palette=\"muted\")\n"
          ]
        },
        {
          "data": {
            "image/png": "[encoded data removed]",
            "text/plain": [
              "<Figure size 800x600 with 1 Axes>"
            ]
          },
          "metadata": {},
          "output_type": "display_data"
        }
      ],
      "source": [
        "plt.figure(figsize=(8,6))\n",
        "sns.barplot(x=\"CO2_categoria\", y=\"Temp\", data=df, estimator=np.mean, ci=None, palette=\"muted\")\n",
        "plt.title(\"Temperatura promedio por categoría de CO2\")\n",
        "plt.xlabel(\"Categoría de CO2\")\n",
        "plt.ylabel(\"Temperatura promedio (°C)\")\n",
        "plt.show()"
      ]
    },
    {
      "cell_type": "markdown",
      "id": "9efdab34",
      "metadata": {
        "id": "9efdab34"
      },
      "source": [
        "El **gráfico de barras de temperatura promedio por categoría de CO₂** confirma esta relación, evidenciando un incremento sistemático de la temperatura promedio: desde aproximadamente **0.08 °C en el grupo “Bajo”** hasta más de **0.42 °C en el grupo “Alto”**. La progresión es prácticamente lineal, lo que refuerza la idea de un vínculo estrecho entre el aumento del CO₂ y el calentamiento global.\n",
        "\n",
        "En conjunto, ambos gráficos coinciden en señalar que **mayores concentraciones de CO₂ se asocian con incrementos sostenidos en la temperatura global**. Estos resultados respaldan la hipótesis de que los gases de efecto invernadero desempeñan un papel determinante en el cambio climático.\n"
      ]
    },
    {
      "cell_type": "markdown",
      "id": "6955e061",
      "metadata": {
        "id": "6955e061"
      },
      "source": [
        "## Conclusiones\n",
        "\n",
        "El análisis bivariado entre la concentración de **CO₂** y la variable **Temp** permitió identificar una **correlación positiva fuerte y estadísticamente significativa**. Tanto el coeficiente de Pearson (0.75) como el de Spearman (0.78) confirmaron que, a medida que aumentan las concentraciones de CO₂ en la atmósfera, la temperatura global tiende a incrementarse de manera consistente.  \n",
        "\n",
        "Las visualizaciones refuerzan este hallazgo: el diagrama de dispersión mostró una tendencia creciente, mientras que los boxplots y el gráfico de barras evidenciaron un aumento sistemático de la temperatura al pasar de niveles bajos a altos de CO₂. El heatmap, por su parte, reveló que otros gases de efecto invernadero como CH₄ y N₂O también mantienen relaciones positivas con la temperatura, lo que sugiere un patrón multivariable en la dinámica del calentamiento global.  \n",
        "\n",
        "En el contexto del conjunto de datos, esta relación respalda la hipótesis científica de que las emisiones de gases de efecto invernadero son un factor determinante en el cambio climático. Como próximos pasos, sería pertinente realizar un **análisis multivariado** que incluya otras variables (CH₄, N₂O, aerosoles, TSI) y evaluar modelos predictivos que permitan cuantificar la contribución relativa de cada uno de estos factores al incremento de la temperatura global aplicando métodos de regularización como Ridge para reducir el impacto de las variables que no sean significativas para los modelos o que tengan colinealidad con otras..\n"
      ]
    },
    {
      "cell_type": "markdown",
      "id": "49d2d6a5",
      "metadata": {
        "id": "49d2d6a5"
      },
      "source": [
        "# 4. Preparación de datos"
      ]
    },
    {
      "cell_type": "markdown",
      "id": "Ud2PtwrWPf0O",
      "metadata": {
        "id": "Ud2PtwrWPf0O"
      },
      "source": [
        "La preparación de los datos se ejecuta de la siguiente manera. Se separan las variables en dos grupos: las variables predictoras y la variable objetivo (y), que es la Temp. Se dividen los datos en un conjunto de entrenamiento y un conjunto de prueba. A continuación se estandarizan los datos para evitar los problemas generados por las diferencias en las magnitudes con las que se mide cada variable.\n"
      ]
    },
    {
      "cell_type": "code",
      "execution_count": 15,
      "id": "rM-_GJwnO_Vz",
      "metadata": {
        "id": "rM-_GJwnO_Vz"
      },
      "outputs": [],
      "source": [
        "#1. Separar las variables predictoras (X) y la variable objetivo (y) descartando las variables categoricas o de fecha\n",
        "X = df.drop(columns=['Temp', 'CO2_categoria', 'Year', 'Month'])\n",
        "y = df['Temp']"
      ]
    },
    {
      "cell_type": "code",
      "execution_count": 16,
      "id": "ppLu8d1vQMWi",
      "metadata": {
        "id": "ppLu8d1vQMWi"
      },
      "outputs": [],
      "source": [
        "# 2. Dividir los datos en conjuntos de entrenamiento y prueba\n",
        "X_train, X_test, y_train, y_test = train_test_split(X, y, test_size=0.2, random_state=42)"
      ]
    },
    {
      "cell_type": "markdown",
      "id": "ZgZRsbpupDFJ",
      "metadata": {
        "id": "ZgZRsbpupDFJ"
      },
      "source": [
        "####Escalado y normalización\n",
        "El escalado de características es un paso crucial. Modelos como la Regresión Lineal con regularización (Ridge) son sensibles a la escala de las variables de entrada. Si una variable tiene una magnitud mucho mayor que otras (ej. CH₄ vs Aerosols), su coeficiente podría verse desproporcionadamente afectado. Utilizamos StandardScaler para estandarizar cada característica, dándoles una media de 0 y una desviación estándar de 1. Esto asegura que todas las variables contribuyan de manera equitativa al modelo"
      ]
    },
    {
      "cell_type": "code",
      "execution_count": 17,
      "id": "UTVKFw17PudH",
      "metadata": {
        "id": "UTVKFw17PudH"
      },
      "outputs": [],
      "source": [
        "# 3. Escalar las características\n",
        "# Creamos una instancia del escalador\n",
        "scaler = StandardScaler()\n",
        "\n",
        "# Ajustamos el escalador con solo los datos de entrenamiento y los transformamos\n",
        "X_train_scaled = scaler.fit_transform(X_train)\n",
        "\n",
        "# Usamos el escalador ajustado para transformar los datos de prueba\n",
        "X_test_scaled = scaler.transform(X_test)"
      ]
    },
    {
      "cell_type": "markdown",
      "id": "46f7e17a",
      "metadata": {
        "id": "46f7e17a"
      },
      "source": [
        "# 5.(EXTRA) Ajuste de modelo de regresión"
      ]
    },
    {
      "cell_type": "markdown",
      "id": "gqBWwTQxRsXZ",
      "metadata": {
        "id": "gqBWwTQxRsXZ"
      },
      "source": [
        "Se plantea un modelo de regresión lineal para cuantificar la relación entre los factores climáticos y la temperatura global. Se utiliza un modelo de Regresión Lineal Múltiple.\n",
        "\n"
      ]
    },
    {
      "cell_type": "code",
      "execution_count": 18,
      "id": "iqBSSAn5Rry_",
      "metadata": {
        "colab": {
          "base_uri": "https://localhost:8080/"
        },
        "id": "iqBSSAn5Rry_",
        "outputId": "7270316b-669b-423e-fe76-856baa843c41"
      },
      "outputs": [
        {
          "name": "stdout",
          "output_type": "stream",
          "text": [
            "Coeficiente de Determinación (R²): 0.6979\n",
            "Error Cuadrático Medio (MSE): 0.0098\n",
            "Raíz del Error Cuadrático Medio (RMSE): 0.0988\n",
            "\n",
            "Coeficientes del modelo:\n",
            "          Coeficiente\n",
            "MEI          0.057034\n",
            "CO2          0.062800\n",
            "CH4          0.005305\n",
            "N2O         -0.085663\n",
            "CFC-11      -0.144856\n",
            "CFC-12       0.246758\n",
            "TSI          0.032722\n",
            "Aerosols    -0.042688\n"
          ]
        }
      ],
      "source": [
        "# 1. Crear y entrenar el modelo de Regresión Lineal\n",
        "# Creamos una instancia del modelo\n",
        "model = LinearRegression()\n",
        "\n",
        "# Entrenamos el modelo con los datos de entrenamiento escalados\n",
        "model.fit(X_train_scaled, y_train)\n",
        "\n",
        "# 2. Realizar predicciones sobre el conjunto de prueba\n",
        "y_pred = model.predict(X_test_scaled)\n",
        "\n",
        "# 3. Evaluar el rendimiento del modelo\n",
        "r2 = r2_score(y_test, y_pred)\n",
        "mse = mean_squared_error(y_test, y_pred)\n",
        "rmse = np.sqrt(mse) # El Root Mean Squared Error es más interpretable\n",
        "\n",
        "print(f\"Coeficiente de Determinación (R²): {r2:.4f}\")\n",
        "print(f\"Error Cuadrático Medio (MSE): {mse:.4f}\")\n",
        "print(f\"Raíz del Error Cuadrático Medio (RMSE): {rmse:.4f}\")\n",
        "\n",
        "# 4. Analizar los coeficientes del modelo\n",
        "# Esto nos dice qué tan importante es cada variable para el modelo\n",
        "coefficients = pd.DataFrame(model.coef_, X.columns, columns=['Coeficiente'])\n",
        "print(\"\\nCoeficientes del modelo:\")\n",
        "print(coefficients)"
      ]
    },
    {
      "cell_type": "markdown",
      "id": "e7Hr8BGYShly",
      "metadata": {
        "id": "e7Hr8BGYShly"
      },
      "source": [
        "**Coeficiente de Determinación (R²):** las variables predictoras que seleccionamos explican aproximadamente el 69.8% de la variabilidad en la temperatura (Temp) con los datos usados.\n",
        "\n",
        "**Raíz del Error Cuadrático Medio (RMSE):** En promedio, las predicciones del modelo se desvían unos 0.099 °C del valor real de la temperatura. Considerando que los valores de Temp van desde -0.28 a 0.74, es un error bastante bajo.\n",
        "\n",
        "**Coeficientes del modelo:**\n",
        "\n",
        "**Valores positivos (como CFC-12, CO2 y MEI)** indican que un aumento en estas variables se asocia con un aumento en la Temp. Destaca CFC-12 con el coeficiente positivo más alto.\n",
        "\n",
        "**Valores negativos (como CFC-11 y N2O)** sugieren que, según el modelo, un aumento en estas variables se asocia con una disminución en la Temp, un resultado interesante que podría explorarse más a fondo, ya que contradice la hipótesis inicial para el N2O. Esto podría deberse a la multicolinealidad (correlaciones entre las propias variables predictoras).\n",
        "\n",
        "\n",
        "A continuación se aplicará la regularización de Ridge para evaluar la verdadera relevancia de cada una de las variables predictoras para explicar los cambios en la temperatura"
      ]
    },
    {
      "cell_type": "code",
      "execution_count": 19,
      "id": "7WJ0-qTdSbka",
      "metadata": {
        "colab": {
          "base_uri": "https://localhost:8080/"
        },
        "id": "7WJ0-qTdSbka",
        "outputId": "ead54f55-7c66-4210-df1c-69fe36c545cc"
      },
      "outputs": [
        {
          "name": "stdout",
          "output_type": "stream",
          "text": [
            "--- Resultados del Modelo Ridge ---\n",
            "Coeficiente de Determinación (R²): 0.6936\n",
            "Error Cuadrático Medio (MSE): 0.0099\n",
            "Raíz del Error Cuadrático Medio (RMSE): 0.0995\n",
            "\n",
            "--- Comparación de Coeficientes ---\n",
            "          Coeficiente_Lineal  Coeficiente_Ridge\n",
            "MEI                 0.057034           0.057898\n",
            "CO2                 0.062800           0.057013\n",
            "CH4                 0.005305           0.008139\n",
            "N2O                -0.085663          -0.029970\n",
            "CFC-11             -0.144856          -0.094238\n",
            "CFC-12              0.246758           0.159317\n",
            "TSI                 0.032722           0.032270\n",
            "Aerosols           -0.042688          -0.044005\n"
          ]
        }
      ],
      "source": [
        "# Continuamos con los datos ya preparados (X_train_scaled, X_test_scaled, y_train, y_test)\n",
        "# y el modelo de regresión lineal anterior ('model') para comparar.\n",
        "\n",
        "# 1. Crear y entrenar el modelo de Regresión Ridge\n",
        "# Usamos el valor por defecto de alpha=1.0, que es un buen punto de partida para la regularización.\n",
        "ridge_model = Ridge(alpha=1.0)\n",
        "\n",
        "# Entrenamos el modelo Ridge con los mismos datos de entrenamiento\n",
        "ridge_model.fit(X_train_scaled, y_train)\n",
        "\n",
        "# 2. Realizar predicciones con el modelo Ridge\n",
        "y_pred_ridge = ridge_model.predict(X_test_scaled)\n",
        "\n",
        "# 3. Evaluar el rendimiento del modelo Ridge\n",
        "r2_ridge = r2_score(y_test, y_pred_ridge)\n",
        "mse_ridge = mean_squared_error(y_test, y_pred_ridge)\n",
        "rmse_ridge = np.sqrt(mse_ridge)\n",
        "\n",
        "print(\"--- Resultados del Modelo Ridge ---\")\n",
        "print(f\"Coeficiente de Determinación (R²): {r2_ridge:.4f}\")\n",
        "print(f\"Error Cuadrático Medio (MSE): {mse_ridge:.4f}\")\n",
        "print(f\"Raíz del Error Cuadrático Medio (RMSE): {rmse_ridge:.4f}\")\n",
        "\n",
        "# 4. Comparar los coeficientes de ambos modelos\n",
        "ridge_coefficients = pd.DataFrame(ridge_model.coef_, X.columns, columns=['Coeficiente_Ridge'])\n",
        "coefficients['Coeficiente_Ridge'] = ridge_coefficients['Coeficiente_Ridge']\n",
        "coefficients.rename(columns={'Coeficiente': 'Coeficiente_Lineal'}, inplace=True)\n",
        "\n",
        "print(\"\\n--- Comparación de Coeficientes ---\")\n",
        "print(coefficients)"
      ]
    },
    {
      "cell_type": "markdown",
      "id": "UAK61SpOTe6I",
      "metadata": {
        "id": "UAK61SpOTe6I"
      },
      "source": [
        "###Resultados modelo\n",
        "\n",
        "El R² del modelo Ridge (0.6936) es casi idéntico al de la regresión lineal (0.6979). Para el caso de  las variables CFC-12 y CFC-11, el modelo lineal les dio coeficientes muy grandes (0.247 y -0.145). Ridge los ha reducito significativamente (a 0.159 y -0.094). Esto sugiere que la alta correlación entre ellos y otros predictores podría haber \"inflado\" su importancia en el primer modelo.\n",
        "\n",
        "MEI y CO2 mantienen coeficientes positivos y relativamente estables, El coeficiente de N2O pasó de ser fuertemente negativo (-0.085663) a ser mucho más cercano a cero (-0.029970). Ridge sugiere que la influencia negativa de esta variable probablemente se debía a la multicolinealidad, y no es un predictor tan fuerte como parecía."
      ]
    },
    {
      "cell_type": "markdown",
      "id": "Nj9037bkV6v7",
      "metadata": {
        "id": "Nj9037bkV6v7"
      },
      "source": [
        "### Conclusiones Modelo\n",
        "\n",
        "El modelo de regresión lineal múltiple con regularización Ridge ejecutado ofrece una visión respaldada de las variables que más afectan la temperatura global. Su principal utilidad radica en la capacidad de ir más allá de la simple correlación para estimar la magnitud del impacto de cada predictor mediante el análisis de sus coeficientes. El análisis identificó a los gases de efecto invernadero, específicamente CO2 y CFC-12, como las variables con la influencia positiva más significativa y estadísticamente robusta. En cuanto a la predicción, el modelo demostró una capacidad considerable con un R² ≈ 0.70.\n",
        "\n",
        "La utilidad predictiva del modelo es la base para abordar la \"prevención\", entendida como la mitigación informada de los factores de riesgo. El modelo funciona como un simulador de escenarios simplificado: permite evaluar el impacto potencial de diferentes políticas de emisión. Por ejemplo, se puede proyectar cómo cambiaría la predicción de la temperatura si se redujeran las concentraciones de CO2 o CFC-12 en un porcentaje determinado. Este enfoque basado en datos es fundamental para una toma de decisiones informada, ya que permite a los responsables de políticas públicas priorizar las intervenciones sobre los gases con mayor impacto. Por lo tanto, el modelo no solo responde \"qué\" variables son importantes, sino que también proporciona una herramienta para evaluar \"cómo\" las acciones sobre estas variables podrían mitigar el calentamiento futuro."
      ]
    },
    {
      "cell_type": "markdown",
      "id": "faID27k_q8j1",
      "metadata": {
        "id": "faID27k_q8j1"
      },
      "source": [
        "## 6. Creación de pipeline de datos"
      ]
    },
    {
      "cell_type": "markdown",
      "id": "3WYrmHxKr5iv",
      "metadata": {
        "id": "3WYrmHxKr5iv"
      },
      "source": [
        "El pipeline construido, llamado pipeline_ridge, consta de dos pasos secuenciales:\n",
        "\n",
        "scaler (Escalador): El primer paso es una instancia de StandardScaler. Su función es estandarizar las variables predictoras, dándoles una media de 0 y una desviación estándar de 1. Esto es fundamental para modelos con regularización como Ridge, ya que asegura que todas las características contribuyan de manera equitativa.\n",
        "\n",
        "regressor (Regresor): El segundo y último paso es nuestro modelo de Ridge. Este modelo de regresión lineal incluye una penalización L2 que ayuda a mitigar la multicolinealidad entre predictores (un fenómeno que observamos en el análisis bivariado) y a prevenir el sobreajuste.\n",
        "\n",
        "Entrenamiento y Evaluación\n",
        "\n",
        "Con una sola llamada a pipeline_ridge.fit(X_train, y_train), el pipeline se encarga de:\n",
        "\n",
        "1. Ajustar el StandardScaler solo con los datos de X_train.\n",
        "\n",
        "2. Transformar X_train usando el escalador recién ajustado.\n",
        "\n",
        "3. Entrenar el modelo Ridge con los datos de X_train ya transformados.\n",
        "\n",
        "Posteriormente, al usar pipeline_ridge.predict(X_test), se aplican automáticamente las mismas transformaciones a los datos de prueba antes de realizar la predicción"
      ]
    },
    {
      "cell_type": "code",
      "execution_count": 21,
      "id": "pLFhFYFuV_d8",
      "metadata": {
        "colab": {
          "base_uri": "https://localhost:8080/"
        },
        "id": "pLFhFYFuV_d8",
        "outputId": "aed2c11b-9f58-4d8d-e931-0761ae564fca"
      },
      "outputs": [
        {
          "name": "stdout",
          "output_type": "stream",
          "text": [
            "--- Resultados del Pipeline con Regresión Ridge ---\n",
            "Coeficiente de Determinación (R²): 0.6936\n",
            "Raíz del Error Cuadrático Medio (RMSE): 0.0995\n",
            "\n",
            "--- Coeficientes del Modelo en el Pipeline ---\n",
            "          Coeficiente\n",
            "CFC-12       0.159317\n",
            "MEI          0.057898\n",
            "CO2          0.057013\n",
            "TSI          0.032270\n",
            "CH4          0.008139\n",
            "N2O         -0.029970\n",
            "Aerosols    -0.044005\n",
            "CFC-11      -0.094238\n"
          ]
        }
      ],
      "source": [
        "# Separamos las variables predictoras (X) y la variable objetivo (y)\n",
        "# Excluimos las columnas originales de fecha y las categóricas.\n",
        "X = df.drop(columns=['Temp', 'CO2_categoria', 'Year', 'Month'])\n",
        "y = df['Temp']\n",
        "\n",
        "# 4.2. División de Datos\n",
        "# Dividimos los datos ANTES de cualquier transformación.\n",
        "X_train, X_test, y_train, y_test = train_test_split(X, y, test_size=0.2, random_state=42)\n",
        "\n",
        "# 4.3. Creación del Pipeline de Preprocesamiento y Modelado\n",
        "# Creamos el Pipeline que encadena el escalado y el modelo.\n",
        "# Paso 1: 'scaler' -> Estandariza las características.\n",
        "# Paso 2: 'regressor' -> Aplica el modelo Ridge.\n",
        "pipeline_ridge = Pipeline(steps=[\n",
        "    ('scaler', StandardScaler()),\n",
        "    ('regressor', Ridge(alpha=1.0))\n",
        "])\n",
        "\n",
        "# 4.4. Entrenamiento y Evaluación del Pipeline\n",
        "# Entrenamos todo el pipeline con un solo comando .fit()\n",
        "pipeline_ridge.fit(X_train, y_train)\n",
        "\n",
        "# Realizamos predicciones\n",
        "y_pred = pipeline_ridge.predict(X_test)\n",
        "\n",
        "# Evaluamos el rendimiento\n",
        "r2 = r2_score(y_test, y_pred)\n",
        "rmse = np.sqrt(mean_squared_error(y_test, y_pred))\n",
        "\n",
        "print(\"--- Resultados del Pipeline con Regresión Ridge ---\")\n",
        "print(f\"Coeficiente de Determinación (R²): {r2:.4f}\")\n",
        "print(f\"Raíz del Error Cuadrático Medio (RMSE): {rmse:.4f}\")\n",
        "\n",
        "# 4.5. Análisis de Coeficientes del Modelo\n",
        "\n",
        "model_in_pipeline = pipeline_ridge.named_steps['regressor']\n",
        "feature_names = X.columns\n",
        "\n",
        "# Creamos el DataFrame de coeficientes\n",
        "coefficients = pd.DataFrame(model_in_pipeline.coef_, index=feature_names, columns=['Coeficiente'])\n",
        "print(\"\\n--- Coeficientes del Modelo en el Pipeline ---\")\n",
        "print(coefficients.sort_values(by='Coeficiente', ascending=False))"
      ]
    }
  ],
  "metadata": {
    "colab": {
      "provenance": []
    },
    "kernelspec": {
      "display_name": "Python 3",
      "language": "python",
      "name": "python3"
    },
    "language_info": {
      "codemirror_mode": {
        "name": "ipython",
        "version": 3
      },
      "file_extension": ".py",
      "mimetype": "text/x-python",
      "name": "python",
      "nbconvert_exporter": "python",
      "pygments_lexer": "ipython3",
      "version": "3.11.9"
    }
  },
  "nbformat": 4,
  "nbformat_minor": 5
}
